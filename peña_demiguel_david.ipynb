{
  "nbformat": 4,
  "nbformat_minor": 0,
  "metadata": {
    "colab": {
      "provenance": [],
      "authorship_tag": "ABX9TyMvb5F/5FNaP6rFdCT6GM9P",
      "include_colab_link": true
    },
    "kernelspec": {
      "name": "python3",
      "display_name": "Python 3"
    },
    "language_info": {
      "name": "python"
    }
  },
  "cells": [
    {
      "cell_type": "markdown",
      "metadata": {
        "id": "view-in-github",
        "colab_type": "text"
      },
      "source": [
        "<a href=\"https://colab.research.google.com/github/davidpedem/davidpedem/blob/main/pe%C3%B1a_demiguel_david.ipynb\" target=\"_parent\"><img src=\"https://colab.research.google.com/assets/colab-badge.svg\" alt=\"Open In Colab\"/></a>"
      ]
    },
    {
      "cell_type": "markdown",
      "source": [
        "#Tarea Final\n",
        "##David Peña de Miguel Máster PNL e IA Universidad de la Rioja\n",
        "##Parte 1: Automatic Keyword extraction\n",
        "##Parte 2: Modelado de temas\n",
        "\n",
        "Para la siguiente tarea elegí la Opción 1 del documento de Tarea Final\n",
        "\n",
        "Mi objetivo: analizar la relación entre los textos elegidos y estudiar las palabras más frecuentes, identificación de temas dentro de cada texto, grupos de temas. Mi elección fueron textos de Wikipedia sobre los libros: \"El Hobbit\" de JRR Tolkien, los libros de \"Las cronicas de Narnia\" de C.S. Lewis y \"1984\" de George Orwell.\n",
        "Me parecía interesante el análisis para ver los temas que más destacaban en las obras, vida de autores y otros aspectos relacionados y si coincidían con mis suposiciones iniciales o incluso si coincidian entre ellos.\n",
        "\n",
        "Procedimiento:\n",
        "Extracción automática de términos utilizando todos los enfoques vistos en clase. Modelado de temas utilizando todos los enfoques vistos en clase, eligiendo el número óptimo de temas mediante el método del codo o la suma de las desviaciones cuadráticas.\n"
      ],
      "metadata": {
        "id": "Gii2iIy01EdS"
      }
    },
    {
      "cell_type": "markdown",
      "source": [
        "Antes de empezar necesitaba un dataset con el que trabajar por lo que estuve mirando en los enlaces propuestos como [Metatext](https://metatext.io/datasets-list/corpora-task). Sin embargo, ninguno de los que encontraba me funcionaban, por ello, opté por intentar descargarme libros en formato txt desde [Proyecto Gutenberg](https://www.gutenberg.org/), pero tampoco me iban bien.\n",
        "Finalmente pensé que podía descargarme los textos desde la página de la Wikipedia instalando la biblioteca de Wikipedia y guardando los txt procedentes de las url seleccionadas en mi carpeta de Drive elegida para el proyecto, y eso hice."
      ],
      "metadata": {
        "id": "DqE_tSsFnbF4"
      }
    },
    {
      "cell_type": "code",
      "source": [
        "pip install wikipedia-api ##instalo la biblioteca de wikipedia"
      ],
      "metadata": {
        "colab": {
          "base_uri": "https://localhost:8080/"
        },
        "id": "CWerUxIK2woS",
        "outputId": "29b22642-5a79-4854-99fe-fbf9a4786cda"
      },
      "execution_count": null,
      "outputs": [
        {
          "output_type": "stream",
          "name": "stdout",
          "text": [
            "Collecting wikipedia-api\n",
            "  Downloading Wikipedia_API-0.6.0-py3-none-any.whl (14 kB)\n",
            "Requirement already satisfied: requests in /usr/local/lib/python3.10/dist-packages (from wikipedia-api) (2.31.0)\n",
            "Requirement already satisfied: charset-normalizer<4,>=2 in /usr/local/lib/python3.10/dist-packages (from requests->wikipedia-api) (3.3.2)\n",
            "Requirement already satisfied: idna<4,>=2.5 in /usr/local/lib/python3.10/dist-packages (from requests->wikipedia-api) (3.6)\n",
            "Requirement already satisfied: urllib3<3,>=1.21.1 in /usr/local/lib/python3.10/dist-packages (from requests->wikipedia-api) (2.0.7)\n",
            "Requirement already satisfied: certifi>=2017.4.17 in /usr/local/lib/python3.10/dist-packages (from requests->wikipedia-api) (2024.2.2)\n",
            "Installing collected packages: wikipedia-api\n",
            "Successfully installed wikipedia-api-0.6.0\n"
          ]
        }
      ]
    },
    {
      "cell_type": "markdown",
      "source": [
        "Importo la biblioteca y drive"
      ],
      "metadata": {
        "id": "qIVm1upfovDi"
      }
    },
    {
      "cell_type": "code",
      "source": [
        "import wikipediaapi\n",
        "from google.colab import drive\n",
        "\n",
        "# Google Drive\n",
        "drive.mount('/content/drive')\n",
        "\n",
        "def obtener_texto_wikipedia_desde_url(url):\n",
        "    # Extraigo el título del artículo de la URL\n",
        "    title = url.split(\"/\")[-1]\n",
        "    # Elimino los guiones bajos para convertirlos en espacios\n",
        "    title = title.replace(\"_\", \" \")\n",
        "\n",
        "    wiki = wikipediaapi.Wikipedia(\n",
        "        language='en',\n",
        "        extract_format=wikipediaapi.ExtractFormat.WIKI,\n",
        "        user_agent='my-application/1.0')\n",
        "\n",
        "    page = wiki.page(title)\n",
        "\n",
        "    if not page.exists():\n",
        "        return \"La página no existe.\"\n",
        "\n",
        "    return page.text\n",
        "\n",
        "# Añado las urls de las páginas que quiero utilizar\n",
        "urls_paginas = [\n",
        "    \"https://en.wikipedia.org/wiki/The_Hobbit\",\n",
        "    \"https://en.wikipedia.org/wiki/The_Chronicles_of_Narnia\",\n",
        "    \"https://en.wikipedia.org/wiki/Nineteen_Eighty-Four\"\n",
        "]\n",
        "\n",
        "for url_pagina in urls_paginas:\n",
        "    texto_wikipedia = obtener_texto_wikipedia_desde_url(url_pagina)\n",
        "\n",
        "    # Esta es la ruta donde se guardará el archivo en mi Google Drive\n",
        "    ruta_en_drive = f'/content/drive/MyDrive/Master_NLP_Extracción y clasificación textual/tarea_final/{url_pagina.split(\"/\")[-1]}.txt'\n",
        "\n",
        "    # Guardo el texto en un archivo de texto en mi Google Drive\n",
        "    with open(ruta_en_drive, 'w') as archivo:\n",
        "        archivo.write(texto_wikipedia)\n",
        "\n",
        "    # Imprimir confirmación (para ver que ha ido todo bien)\n",
        "    print(f\"El texto de {url_pagina} se ha guardado en tu Google Drive.\")\n"
      ],
      "metadata": {
        "colab": {
          "base_uri": "https://localhost:8080/"
        },
        "id": "4wXpeSdJ4Uy0",
        "outputId": "ac61ac4e-37b4-4f70-e842-f012181b2c63"
      },
      "execution_count": null,
      "outputs": [
        {
          "output_type": "stream",
          "name": "stdout",
          "text": [
            "Mounted at /content/drive\n",
            "El texto de https://en.wikipedia.org/wiki/The_Hobbit se ha guardado en tu Google Drive.\n",
            "El texto de https://en.wikipedia.org/wiki/The_Chronicles_of_Narnia se ha guardado en tu Google Drive.\n",
            "El texto de https://en.wikipedia.org/wiki/Nineteen_Eighty-Four se ha guardado en tu Google Drive.\n"
          ]
        }
      ]
    },
    {
      "cell_type": "markdown",
      "source": [
        "##Parte 1\n",
        "##Enfoque lingüístico\n",
        "\n",
        "Primero me parece oportuno recordar los pasos necesarios en la extracción automática de términos (desde el enfoque lingüístico)."
      ],
      "metadata": {
        "id": "jOoEFLsC1YIT"
      }
    },
    {
      "cell_type": "markdown",
      "source": [
        " 1. Tokenización: Separar el texto en unidades léxicas individuales, como típicamente palabras/tokens.\n",
        "\n",
        "  2. Lematización: Obtener los lemmas de los tokens.\n",
        "\n",
        "  3. Etiquetado de categorías gramaticales: Utilizar un etiquetador morfosintáctico para asignar etiquetas gramaticales a cada token, como sustantivos, verbos, etc. Esto puede ser realizado usando una librería como NLTK o SpaCy.\n",
        "\n",
        "  4. Aplicar patrones morfosintácticos: Utilizar reglas basadas en patrones morfosintácticos para seleccionar tokens relevantes para el dominio. Por ejemplo, podría seleccionar solo los sustantivos y verbos.\n",
        "\n",
        "  5. Aplicar una lista de exclusión: Eliminar palabras funcionales y genéricas, como artículos, preposiciones, conjunciones, verbos auxiliares, etc., utilizando una lista de palabras comunes a excluir.\n",
        "\n",
        "  5. Calcular las frecuencias: Calcular las frecuencias de los tokens seleccionados para obtener los términos más relevantes para el dominio."
      ],
      "metadata": {
        "id": "mp73kD6-1WU4"
      }
    },
    {
      "cell_type": "code",
      "source": [
        "import nltk ##importamos las librerías nltk y spacy para poder realizar, entre otras cosas el Paso 3 (etiquetado de categorías gramaticales)\n",
        "from nltk.corpus import stopwords\n",
        "nltk.download('stopwords')\n",
        "import spacy\n",
        "# Cargamos el modelo de spaCy para el idioma inglés\n",
        "nlp = spacy.load(\"en_core_web_sm\", disable = [\"parser\", \"ner\"])\n",
        "\n",
        "def extract_terms(text): #Función necearia para realizar la extracción automática de términos\n",
        "    doc = nlp(text) #Este es el documento procesado por spacy\n",
        "    # Para obtener las raíces de las palabras y las etiquetas gramaticales utilizamos:\n",
        "    lemmas_tags = [(token.lemma_, token.pos_) for token in doc] #Obtenemos los lemas mediante una lista de comprensión\n",
        "    # Para filtrar solo los nombres, verbos, adjetivos y adverbios\n",
        "    filtered_lemmas_tags = [(lemma, tag) for lemma, tag in lemmas_tags if tag in [\"NOUN\", \"VERB\", \"ADJ\", \"ADV\"]]\n",
        "    filtered_lemmas = [lemma for lemma, tag in filtered_lemmas_tags]\n",
        "    # Aplicamos una lista de exclusión: para eliminar y limpiar nuestros textos de aquellas palabras que son muy frecuentes pero no son relevantes\n",
        "    stop_words = set(stopwords.words(\"english\"))\n",
        "    terms = [lemma for lemma in filtered_lemmas if lemma not in stop_words]\n",
        "    # Calculamos las frecuencias (términos más relevantes: que aparezcan con más frecuencia en el texto)\n",
        "    freq_dist = nltk.FreqDist(terms)\n",
        "\n",
        "    return freq_dist.most_common(10) ##Le pedimos que solo nos devuelva 10 (aunque podríamos pedirle más o menos)"
      ],
      "metadata": {
        "id": "EkPl0TOB1U7r",
        "colab": {
          "base_uri": "https://localhost:8080/"
        },
        "outputId": "4eba1143-4fa5-4f94-9d76-389a682b10ad"
      },
      "execution_count": null,
      "outputs": [
        {
          "output_type": "stream",
          "name": "stderr",
          "text": [
            "[nltk_data] Downloading package stopwords to /root/nltk_data...\n",
            "[nltk_data]   Unzipping corpora/stopwords.zip.\n"
          ]
        }
      ]
    },
    {
      "cell_type": "markdown",
      "source": [
        "Cargamos los textos (Las páginas de Wikipedia de El Hobbit, Las Cronicas de Narnia y 1984)"
      ],
      "metadata": {
        "id": "zFlpGbOWtTNy"
      }
    },
    {
      "cell_type": "code",
      "source": [
        "from google.colab import drive #importamos los archivos .txt desde el drive\n",
        "\n",
        "drive.mount('/content/drive')\n",
        "text_wikipedia_hobbit_file = '/content/drive/MyDrive/Master_NLP_Extracción y clasificación textual/tarea_final/texto_wikipedia_hobbit.txt'\n",
        "text_wikipedia_narnia_file = '/content/drive/MyDrive/Master_NLP_Extracción y clasificación textual/tarea_final/texto_wikipedia_narnia.txt'\n",
        "text_wikipedia_1984_file = '/content/drive/MyDrive/Master_NLP_Extracción y clasificación textual/tarea_final/text_wikipedia_1984.txt'"
      ],
      "metadata": {
        "colab": {
          "base_uri": "https://localhost:8080/"
        },
        "id": "7aF_ftyEYZF1",
        "outputId": "bc0cbcfd-e94f-4677-b108-1c28e1b17a1f"
      },
      "execution_count": null,
      "outputs": [
        {
          "output_type": "stream",
          "name": "stdout",
          "text": [
            "Drive already mounted at /content/drive; to attempt to forcibly remount, call drive.mount(\"/content/drive\", force_remount=True).\n"
          ]
        }
      ]
    },
    {
      "cell_type": "code",
      "source": [
        "text_wikipedia_hobbit, text_wikipedia_narnia, text_wikipedia_1984 = '', '', '' #Definimos tres cadenas de variables\n",
        "\n",
        "with open(text_wikipedia_hobbit_file) as f:           #Cargamos los archivos para completar las cadenas\n",
        "  text_wikipedia_hobbit = f.readline()\n",
        "with open(text_wikipedia_narnia_file) as f:\n",
        "  text_wikipedia_narnia = f.readline()\n",
        "with open(text_wikipedia_1984_file) as f:\n",
        "  text_wikipedia_1984 = f.readline()\n"
      ],
      "metadata": {
        "id": "UiYPTo_uYxWA"
      },
      "execution_count": null,
      "outputs": []
    },
    {
      "cell_type": "code",
      "source": [
        "text_wikipedia_hobbit #Así se ve el texto del Hobbit (no entero)"
      ],
      "metadata": {
        "colab": {
          "base_uri": "https://localhost:8080/",
          "height": 70
        },
        "id": "S2W_Oz3c9YGA",
        "outputId": "c696d9e6-cc8e-47f8-b04a-49522850f9ae"
      },
      "execution_count": null,
      "outputs": [
        {
          "output_type": "execute_result",
          "data": {
            "text/plain": [
              "\"The Hobbit, or There and Back Again is a children's fantasy novel by English author J. R. R. Tolkien. It was published in 1937 to wide critical acclaim, being nominated for the Carnegie Medal and awarded a prize from the New York Herald Tribune for best juvenile fiction. The book is recognized as a classic in children's literature and is one of the best-selling books of all time, with over 100 million copies sold.\\n\""
            ],
            "application/vnd.google.colaboratory.intrinsic+json": {
              "type": "string"
            }
          },
          "metadata": {},
          "execution_count": 13
        }
      ]
    },
    {
      "cell_type": "code",
      "source": [
        "text_wikipedia_narnia"
      ],
      "metadata": {
        "colab": {
          "base_uri": "https://localhost:8080/",
          "height": 122
        },
        "id": "kWaodRx0KYKC",
        "outputId": "523d094d-fa9d-4e54-c9ce-c2b009a8238f"
      },
      "execution_count": null,
      "outputs": [
        {
          "output_type": "execute_result",
          "data": {
            "text/plain": [
              "\"The Chronicles of Narnia is a series of seven portal fantasy novels by British author C. S. Lewis. Illustrated by Pauline Baynes and originally published between 1950 and 1956, The Chronicles of Narnia has been adapted for radio, television, the stage, film, and video games. The series is set in the fictional realm of Narnia, a fantasy world of magic, mythical beasts and talking animals. It narrates the adventures of various children who play central roles in the unfolding history of the Narnian world. Except in The Horse and His Boy, the protagonists are all children from the real world who are magically transported to Narnia, where they are sometimes called upon by the lion Aslan to protect Narnia from evil. The books span the entire history of Narnia, from its creation in The Magician's Nephew to its eventual destruction in The Last Battle.\\n\""
            ],
            "application/vnd.google.colaboratory.intrinsic+json": {
              "type": "string"
            }
          },
          "metadata": {},
          "execution_count": 14
        }
      ]
    },
    {
      "cell_type": "code",
      "source": [
        "text_wikipedia_1984"
      ],
      "metadata": {
        "colab": {
          "base_uri": "https://localhost:8080/",
          "height": 104
        },
        "id": "4fLvdktDKbRt",
        "outputId": "7640fff8-032e-474f-e176-c758fc1a0ade"
      },
      "execution_count": null,
      "outputs": [
        {
          "output_type": "execute_result",
          "data": {
            "text/plain": [
              "\"Nineteen Eighty-Four (also published as 1984) is a dystopian novel and cautionary tale by English writer George Orwell. It was published on 8 June 1949 by Secker & Warburg as Orwell's ninth and final book completed in his lifetime. Thematically, it centres on the consequences of totalitarianism, mass surveillance and repressive regimentation of people and behaviours within society. Orwell, a democratic socialist, modelled the authoritarian state in the novel on the Soviet Union in the era of Stalinism, and Nazi Germany. More broadly, the novel examines the role of truth and facts within societies and the ways in which they can be manipulated.\\n\""
            ],
            "application/vnd.google.colaboratory.intrinsic+json": {
              "type": "string"
            }
          },
          "metadata": {},
          "execution_count": 15
        }
      ]
    },
    {
      "cell_type": "code",
      "source": [
        "extracted_terms = extract_terms(text_wikipedia_narnia) #Aplicamos la función extracted_terms para obtener como output de los 10 términos más frecuentes\n",
        "extracted_terms #Observamos que 'world\" es el término con mayor frecuencia en el texto de Las Cronicas de Narnia."
      ],
      "metadata": {
        "colab": {
          "base_uri": "https://localhost:8080/"
        },
        "id": "YN2wWJOWdYHT",
        "outputId": "ddb548af-4cda-42f1-b755-19f6621a4140"
      },
      "execution_count": null,
      "outputs": [
        {
          "output_type": "execute_result",
          "data": {
            "text/plain": [
              "[('world', 3),\n",
              " ('series', 2),\n",
              " ('fantasy', 2),\n",
              " ('child', 2),\n",
              " ('history', 2),\n",
              " ('portal', 1),\n",
              " ('novel', 1),\n",
              " ('british', 1),\n",
              " ('author', 1),\n",
              " ('illustrate', 1)]"
            ]
          },
          "metadata": {},
          "execution_count": 16
        }
      ]
    },
    {
      "cell_type": "code",
      "source": [
        "extracted_terms = extract_terms(text_wikipedia_hobbit) #Aplicamos la función extracted_terms para obtener como output de los 10 términos más frecuentes\n",
        "extracted_terms #Observamos que 'child' (seguido de 'book' y 'sell') es el término con mayor frecuencia en el texto de el Hobbit"
      ],
      "metadata": {
        "colab": {
          "base_uri": "https://localhost:8080/"
        },
        "id": "I51PTDTvKqsW",
        "outputId": "4ff1de55-eefc-459e-d6e7-cf45b137ed7b"
      },
      "execution_count": null,
      "outputs": [
        {
          "output_type": "execute_result",
          "data": {
            "text/plain": [
              "[('child', 2),\n",
              " ('book', 2),\n",
              " ('sell', 2),\n",
              " ('fantasy', 1),\n",
              " ('novel', 1),\n",
              " ('author', 1),\n",
              " ('publish', 1),\n",
              " ('wide', 1),\n",
              " ('critical', 1),\n",
              " ('acclaim', 1)]"
            ]
          },
          "metadata": {},
          "execution_count": 17
        }
      ]
    },
    {
      "cell_type": "code",
      "source": [
        "extracted_terms = extract_terms(text_wikipedia_1984) #Aplicamos la función extracted_terms para obtener como output de los 10 términos más frecuentes\n",
        "extracted_terms #Observamos que 'novel' es el término con mayor frecuencia en el texto de 1984"
      ],
      "metadata": {
        "colab": {
          "base_uri": "https://localhost:8080/"
        },
        "id": "3KKthCgMKwTM",
        "outputId": "d29e5de9-f001-440d-9ee4-d90026ce2088"
      },
      "execution_count": null,
      "outputs": [
        {
          "output_type": "execute_result",
          "data": {
            "text/plain": [
              "[('novel', 3),\n",
              " ('publish', 2),\n",
              " ('society', 2),\n",
              " ('also', 1),\n",
              " ('dystopian', 1),\n",
              " ('cautionary', 1),\n",
              " ('tale', 1),\n",
              " ('english', 1),\n",
              " ('writer', 1),\n",
              " ('ninth', 1)]"
            ]
          },
          "metadata": {},
          "execution_count": 18
        }
      ]
    },
    {
      "cell_type": "markdown",
      "source": [
        "##Enfoque estadístico"
      ],
      "metadata": {
        "id": "Y82DT_kZ9xsl"
      }
    },
    {
      "cell_type": "markdown",
      "source": [
        "A continuación procedemos con el enfoque estadístico para obtener las palabras más importantes de un texto.\n",
        "\n",
        "Llevaremos a cabo tres sub-enfoques llamados PMI (información mutua puntual), chi-square (ji cuadrado), y likelihood ratio (logaritmo del cociente de verosimilitudes)\n",
        "\n",
        "Empplearemos las librerías spacy y nltk para tokenizar, lematizar y exlcuir las palabras de clases gramaticales y stopwords.\n",
        "\n",
        "Son muy útiles para analizar y cuantificar la relación entre bigramas (como las medidas de asociacion entre bigramas)"
      ],
      "metadata": {
        "id": "87kUhnA0uH5c"
      }
    },
    {
      "cell_type": "code",
      "source": [
        "from nltk.collocations import BigramCollocationFinder, BigramAssocMeasures  #Importamos las colocaciones que nos van a servir para calcular las medidas\n",
        "\n",
        "doc = nlp(text_wikipedia_hobbit)\n",
        "# Obtenemos las raíces de las palabras y las etiquetas gramaticales\n",
        "lemmas_tags = [(token.lemma_, token.pos_) for token in doc]\n",
        "# Filtramos solo los nombres, verbos, adjetivos y adverbios\n",
        "filtered_lemmas_tags = [(lemma, tag) for lemma, tag in lemmas_tags if tag in [\"NOUN\", \"VERB\", \"ADJ\", \"ADV\"]]\n",
        "filtered_lemmas = [lemma for lemma, tag in filtered_lemmas_tags]\n",
        "# Aplicamos una lista de exclusión\n",
        "stop_words = set(stopwords.words(\"english\"))\n",
        "terms = [lemma for lemma in filtered_lemmas if lemma not in stop_words]\n",
        "print(terms) #Términos procesados de la lista de wikipedia_hobbit y lematizados (ninguna de las palabras están flexionadas)"
      ],
      "metadata": {
        "colab": {
          "base_uri": "https://localhost:8080/"
        },
        "id": "phy25qGt-EGZ",
        "outputId": "e401325d-f85b-47b9-8d3c-81e87a9342ea"
      },
      "execution_count": null,
      "outputs": [
        {
          "output_type": "stream",
          "name": "stdout",
          "text": [
            "['child', 'fantasy', 'novel', 'author', 'publish', 'wide', 'critical', 'acclaim', 'nominate', 'award', 'prize', 'good', 'juvenile', 'fiction', 'book', 'recognize', 'classic', 'child', 'literature', 'well', 'sell', 'book', 'time', 'copy', 'sell']\n"
          ]
        }
      ]
    },
    {
      "cell_type": "markdown",
      "source": [
        "##PMI\n",
        "Queremos medir la relación estadística entre dos términos. O lo que es o mismo, la relación entre palabras y su probabilidad de aparecer juntas dentro de un contexto dado.\n",
        "Para ello, utilizamos el sub-enfoque estadístico PMI.\n",
        "Observamos que los valores más elevados de PMI (como acclaim, nominate) indican tienen una asociación significativa entre ellos."
      ],
      "metadata": {
        "id": "aKeF319lOhyD"
      }
    },
    {
      "cell_type": "code",
      "source": [
        "bigram_measures = BigramAssocMeasures() #Medidas base?\n",
        "finder = BigramCollocationFinder.from_words(terms) #Para encontrar colocaciones de bigramas en los términos. Extraer el bigrama\n",
        "print('Extract terms using PMI: ')\n",
        "for i in finder.score_ngrams(bigram_measures.pmi): #Refleja los bigramas en los términos de mayor a menor puntuación PMI (más a menos relevante)\n",
        "    print(i)"
      ],
      "metadata": {
        "colab": {
          "base_uri": "https://localhost:8080/"
        },
        "id": "ATtw7FdqCL09",
        "outputId": "3fd45da0-4152-4a3f-cc5a-c80b6b02ce32"
      },
      "execution_count": null,
      "outputs": [
        {
          "output_type": "stream",
          "name": "stdout",
          "text": [
            "Extract terms using PMI: \n",
            "(('acclaim', 'nominate'), 4.643856189774724)\n",
            "(('author', 'publish'), 4.643856189774724)\n",
            "(('award', 'prize'), 4.643856189774724)\n",
            "(('critical', 'acclaim'), 4.643856189774724)\n",
            "(('fantasy', 'novel'), 4.643856189774724)\n",
            "(('good', 'juvenile'), 4.643856189774724)\n",
            "(('juvenile', 'fiction'), 4.643856189774724)\n",
            "(('literature', 'well'), 4.643856189774724)\n",
            "(('nominate', 'award'), 4.643856189774724)\n",
            "(('novel', 'author'), 4.643856189774724)\n",
            "(('prize', 'good'), 4.643856189774724)\n",
            "(('publish', 'wide'), 4.643856189774724)\n",
            "(('recognize', 'classic'), 4.643856189774724)\n",
            "(('time', 'copy'), 4.643856189774724)\n",
            "(('wide', 'critical'), 4.643856189774724)\n",
            "(('book', 'recognize'), 3.6438561897747244)\n",
            "(('book', 'time'), 3.6438561897747244)\n",
            "(('child', 'fantasy'), 3.6438561897747244)\n",
            "(('child', 'literature'), 3.6438561897747244)\n",
            "(('classic', 'child'), 3.6438561897747244)\n",
            "(('copy', 'sell'), 3.6438561897747244)\n",
            "(('fiction', 'book'), 3.6438561897747244)\n",
            "(('well', 'sell'), 3.6438561897747244)\n",
            "(('sell', 'book'), 2.6438561897747244)\n"
          ]
        }
      ]
    },
    {
      "cell_type": "markdown",
      "source": [
        "##Chi square"
      ],
      "metadata": {
        "id": "G10f8oxAOkT6"
      }
    },
    {
      "cell_type": "code",
      "source": [
        "print('Extract terms using chi square:') #Como vimos en clase, cuanto mayor sea el valor que obtengamos ('aclaim'  y 'nominate' en este caso), más probable es que estén los bigramas asociados.\n",
        "for i in finder.score_ngrams(bigram_measures.chi_sq):\n",
        "    print(i)"
      ],
      "metadata": {
        "colab": {
          "base_uri": "https://localhost:8080/"
        },
        "id": "sJSaF_yQOmhB",
        "outputId": "cd5f73b7-2470-46b0-b5a0-72476f9a5e05"
      },
      "execution_count": null,
      "outputs": [
        {
          "output_type": "stream",
          "name": "stdout",
          "text": [
            "Extract terms using chi square:\n",
            "(('acclaim', 'nominate'), 25.0)\n",
            "(('author', 'publish'), 25.0)\n",
            "(('award', 'prize'), 25.0)\n",
            "(('critical', 'acclaim'), 25.0)\n",
            "(('fantasy', 'novel'), 25.0)\n",
            "(('good', 'juvenile'), 25.0)\n",
            "(('juvenile', 'fiction'), 25.0)\n",
            "(('literature', 'well'), 25.0)\n",
            "(('nominate', 'award'), 25.0)\n",
            "(('novel', 'author'), 25.0)\n",
            "(('prize', 'good'), 25.0)\n",
            "(('publish', 'wide'), 25.0)\n",
            "(('recognize', 'classic'), 25.0)\n",
            "(('time', 'copy'), 25.0)\n",
            "(('wide', 'critical'), 25.0)\n",
            "(('book', 'recognize'), 11.979166666666668)\n",
            "(('book', 'time'), 11.979166666666668)\n",
            "(('child', 'fantasy'), 11.979166666666668)\n",
            "(('child', 'literature'), 11.979166666666668)\n",
            "(('classic', 'child'), 11.979166666666668)\n",
            "(('copy', 'sell'), 11.979166666666668)\n",
            "(('fiction', 'book'), 11.979166666666668)\n",
            "(('well', 'sell'), 11.979166666666668)\n",
            "(('sell', 'book'), 5.210302457466918)\n"
          ]
        }
      ]
    },
    {
      "cell_type": "markdown",
      "source": [
        "##Log Likelihood ratio"
      ],
      "metadata": {
        "id": "LpAyZs_GOmSg"
      }
    },
    {
      "cell_type": "code",
      "source": [
        "print('Extract terms using likelihood ratio:')\n",
        "for i in finder.score_ngrams(bigram_measures.likelihood_ratio): #Es importante destacar 'finder.score_ngrams' en los tres sub-enfoques para \"reflejar\" la puntuación de bigramas\n",
        "    print(i)"
      ],
      "metadata": {
        "colab": {
          "base_uri": "https://localhost:8080/"
        },
        "id": "kotbDKnwO0gU",
        "outputId": "bc7c7298-548a-45c3-b6e1-aeacccfb5712"
      },
      "execution_count": null,
      "outputs": [
        {
          "output_type": "stream",
          "name": "stdout",
          "text": [
            "Extract terms using likelihood ratio:\n",
            "(('acclaim', 'nominate'), 8.39720738670865)\n",
            "(('author', 'publish'), 8.39720738670865)\n",
            "(('award', 'prize'), 8.39720738670865)\n",
            "(('critical', 'acclaim'), 8.39720738670865)\n",
            "(('fantasy', 'novel'), 8.39720738670865)\n",
            "(('good', 'juvenile'), 8.39720738670865)\n",
            "(('juvenile', 'fiction'), 8.39720738670865)\n",
            "(('literature', 'well'), 8.39720738670865)\n",
            "(('nominate', 'award'), 8.39720738670865)\n",
            "(('novel', 'author'), 8.39720738670865)\n",
            "(('prize', 'good'), 8.39720738670865)\n",
            "(('publish', 'wide'), 8.39720738670865)\n",
            "(('recognize', 'classic'), 8.39720738670865)\n",
            "(('time', 'copy'), 8.39720738670865)\n",
            "(('wide', 'critical'), 8.39720738670865)\n",
            "(('book', 'recognize'), 5.62461866446887)\n",
            "(('book', 'time'), 5.62461866446887)\n",
            "(('child', 'fantasy'), 5.62461866446887)\n",
            "(('child', 'literature'), 5.62461866446887)\n",
            "(('classic', 'child'), 5.62461866446887)\n",
            "(('copy', 'sell'), 5.62461866446887)\n",
            "(('fiction', 'book'), 5.62461866446887)\n",
            "(('well', 'sell'), 5.62461866446887)\n",
            "(('sell', 'book'), 2.9390138812145983)\n"
          ]
        }
      ]
    },
    {
      "cell_type": "markdown",
      "source": [
        "##Medidas de terminologización (Termhood)\n",
        "###TF-IDF\n",
        "Vamos a utilizar TF-IDF para determinar si un n-grama está más relacionado con el tema (contenido) que otros n-gramas.\n",
        "\n",
        "En este caso es importante recordar que:\n",
        "- TF: justifica el hecho de que se concede más peso a n-gramas que aparecen más veces en un determinado documento.\n",
        "- IDF: recompensa los n-gramas que se concentran en determinados documentos del corpus. (Se otorga menos peso a los n-gramas que aparecen en muchos documentos).\n",
        "- El factor de normalización se utiliza para minimizar el efecto del tamaño de los documentos (documentos extensos tienne muchos n-gramas diferentes y también tienden a utilizar siempre los mismos n-gramas).\n",
        "\n",
        "El score de TF-IDF indica la importancia relativa del término en relación con el resto de los términos en un conjunto de documentos."
      ],
      "metadata": {
        "id": "ddCegp1kO4lC"
      }
    },
    {
      "cell_type": "markdown",
      "source": [
        "Vamos a crear un objeto TfidfVectorizer que se ajustará a un conjunto de documentos. Con él obtendremos los nombres de los términos y scores de tf-idf de cada término y lo ordenaremos de mayor a menor importancia."
      ],
      "metadata": {
        "id": "nP9zNwW0dzea"
      }
    },
    {
      "cell_type": "code",
      "source": [
        "from sklearn.feature_extraction.text import TfidfVectorizer\n",
        "\n",
        "texts = [text_wikipedia_hobbit, text_wikipedia_1984, text_wikipedia_narnia]\n",
        "\n",
        "texts_lem = []\n",
        "for text in texts:\n",
        "    # Procesamos el texto con spaCy\n",
        "    doc = nlp(text)\n",
        "    # Obtenemos las raíces de las palabras y las etiquetas gramaticales\n",
        "    lemmas_tags = [(token.lemma_, token.pos_) for token in doc]\n",
        "    # Filtramos solo los nombres, verbos, adjetivos y adverbios\n",
        "    filtered_lemmas_tags = [(lemma, tag) for lemma, tag in lemmas_tags if tag in [\"NOUN\", \"VERB\", \"ADJ\", \"ADV\"]]\n",
        "    filtered_lemmas = [lemma for lemma, tag in filtered_lemmas_tags]\n",
        "    # Unir las palabras lematizadas en una cadena\n",
        "    text_lem = \" \".join(filtered_lemmas)\n",
        "    texts_lem.append(text_lem)\n",
        "\n",
        "# Creamos la instanciar del vectorizador TfidfVectorizer\n",
        "vectorizer = TfidfVectorizer(stop_words=\"english\")\n",
        "\n",
        "# Ajustamos el vectorizador al conjunto de documentos\n",
        "X = vectorizer.fit_transform(texts_lem)\n",
        "\n",
        "# Obtenemos los nombres de los términos (features)\n",
        "features = vectorizer.get_feature_names_out()\n",
        "\n",
        "# Obtenemos los scores tf-idf de cada término\n",
        "scores = X.toarray().flatten()\n",
        "\n",
        "# Creamos una tabla (lista de tuplas) que almacene los términos y sus respectivos scores tf-idf\n",
        "scores_table = [(features[i], scores[i]) for i in range(len(features))]\n",
        "\n",
        "# Ordenamos la tabla de acuerdo a los scores tf-idf (de mayor a menor)\n",
        "scores_table = sorted(scores_table, key=lambda x: x[1], reverse=True)\n",
        "\n",
        "# Imprimimos elementos de la tabla\n",
        "for term, score in scores_table:\n",
        "    print(\"Term:\", term, \"| Score:\", score) #En el experimento observamos que 'sell' tiene el score más alto"
      ],
      "metadata": {
        "colab": {
          "base_uri": "https://localhost:8080/"
        },
        "id": "lEqNvZe-O9nW",
        "outputId": "3b4e1f1f-3bd2-48d1-899e-0bd50811d49b"
      },
      "execution_count": null,
      "outputs": [
        {
          "output_type": "stream",
          "name": "stdout",
          "text": [
            "Term: sell | Score: 0.4120134339193687\n",
            "Term: child | Score: 0.3133468363286707\n",
            "Term: book | Score: 0.24334177125884035\n",
            "Term: acclaim | Score: 0.20600671695968434\n",
            "Term: award | Score: 0.20600671695968434\n",
            "Term: classic | Score: 0.20600671695968434\n",
            "Term: copy | Score: 0.20600671695968434\n",
            "Term: critical | Score: 0.20600671695968434\n",
            "Term: fiction | Score: 0.20600671695968434\n",
            "Term: good | Score: 0.20600671695968434\n",
            "Term: juvenile | Score: 0.20600671695968434\n",
            "Term: literature | Score: 0.20600671695968434\n",
            "Term: nominate | Score: 0.20600671695968434\n",
            "Term: prize | Score: 0.20600671695968434\n",
            "Term: recognize | Score: 0.20600671695968434\n",
            "Term: time | Score: 0.20600671695968434\n",
            "Term: wide | Score: 0.20600671695968434\n",
            "Term: author | Score: 0.15667341816433536\n",
            "Term: fantasy | Score: 0.15667341816433536\n",
            "Term: novel | Score: 0.12167088562942018\n",
            "Term: publish | Score: 0.12167088562942018\n",
            "Term: adapt | Score: 0.0\n",
            "Term: adventure | Score: 0.0\n",
            "Term: animal | Score: 0.0\n",
            "Term: authoritarian | Score: 0.0\n",
            "Term: beast | Score: 0.0\n",
            "Term: behaviour | Score: 0.0\n",
            "Term: british | Score: 0.0\n",
            "Term: broadly | Score: 0.0\n",
            "Term: cautionary | Score: 0.0\n",
            "Term: central | Score: 0.0\n",
            "Term: centre | Score: 0.0\n",
            "Term: complete | Score: 0.0\n",
            "Term: consequence | Score: 0.0\n",
            "Term: creation | Score: 0.0\n",
            "Term: democratic | Score: 0.0\n",
            "Term: destruction | Score: 0.0\n",
            "Term: dystopian | Score: 0.0\n",
            "Term: english | Score: 0.0\n",
            "Term: entire | Score: 0.0\n",
            "Term: era | Score: 0.0\n",
            "Term: eventual | Score: 0.0\n",
            "Term: evil | Score: 0.0\n",
            "Term: examine | Score: 0.0\n",
            "Term: fact | Score: 0.0\n",
            "Term: fictional | Score: 0.0\n",
            "Term: film | Score: 0.0\n",
            "Term: final | Score: 0.0\n",
            "Term: game | Score: 0.0\n",
            "Term: history | Score: 0.0\n",
            "Term: illustrate | Score: 0.0\n",
            "Term: lifetime | Score: 0.0\n",
            "Term: lion | Score: 0.0\n",
            "Term: magic | Score: 0.0\n",
            "Term: magically | Score: 0.0\n",
            "Term: manipulate | Score: 0.0\n",
            "Term: mass | Score: 0.0\n",
            "Term: model | Score: 0.0\n",
            "Term: mythical | Score: 0.0\n",
            "Term: narnian | Score: 0.0\n",
            "Term: narrate | Score: 0.0\n",
            "Term: ninth | Score: 0.0\n",
            "Term: originally | Score: 0.0\n",
            "Term: people | Score: 0.0\n",
            "Term: play | Score: 0.0\n",
            "Term: portal | Score: 0.0\n",
            "Term: protagonist | Score: 0.0\n",
            "Term: protect | Score: 0.0\n",
            "Term: radio | Score: 0.0\n",
            "Term: real | Score: 0.0\n",
            "Term: realm | Score: 0.0\n",
            "Term: regimentation | Score: 0.0\n",
            "Term: repressive | Score: 0.0\n",
            "Term: role | Score: 0.0\n",
            "Term: series | Score: 0.0\n",
            "Term: set | Score: 0.0\n",
            "Term: socialist | Score: 0.0\n",
            "Term: society | Score: 0.0\n",
            "Term: span | Score: 0.0\n",
            "Term: stage | Score: 0.0\n",
            "Term: state | Score: 0.0\n",
            "Term: surveillance | Score: 0.0\n",
            "Term: tale | Score: 0.0\n",
            "Term: talking | Score: 0.0\n",
            "Term: television | Score: 0.0\n",
            "Term: thematically | Score: 0.0\n",
            "Term: totalitarianism | Score: 0.0\n",
            "Term: transport | Score: 0.0\n",
            "Term: truth | Score: 0.0\n",
            "Term: unfold | Score: 0.0\n",
            "Term: various | Score: 0.0\n",
            "Term: video | Score: 0.0\n",
            "Term: way | Score: 0.0\n",
            "Term: world | Score: 0.0\n",
            "Term: writer | Score: 0.0\n"
          ]
        }
      ]
    },
    {
      "cell_type": "markdown",
      "source": [
        "##Coeficiente de rareza\n",
        "El coeficiente de rareza se utiliza para comparar la frecuencia de un término en relación con el resto de términos en el conjunto de documentos."
      ],
      "metadata": {
        "id": "h5l9IAm47JcR"
      }
    },
    {
      "cell_type": "code",
      "source": [
        "from sklearn.feature_extraction.text import CountVectorizer #Ahora utilizamos CountVectorizer\n",
        "import numpy as np\n",
        "\n",
        "# Creamos la instancia del vectorizador CountVectorizer\n",
        "vectorizer = CountVectorizer(stop_words=\"english\")\n",
        "\n",
        "# Ajustamos el vectorizador al conjunto de documentos\n",
        "X = vectorizer.fit_transform(texts_lem)\n",
        "\n",
        "# Obtenemos  los nombres de los términos (features)\n",
        "features = vectorizer.get_feature_names_out()\n",
        "\n",
        "# Obtenemos la frecuencia de documentos para cada término\n",
        "document_frequency = np.array(X.sum(axis=0))[0]\n",
        "\n",
        "# Calculamos el coeficiente de rareza de cada término\n",
        "total_documents = X.shape[0]\n",
        "rareness = (1 - (document_frequency / total_documents))\n",
        "\n",
        "# Crear una tabla (lista de tuplas) con los términos y sus respectivos coeficientes de rareza\n",
        "rareness_table = [(features[i], rareness[i]) for i in range(len(features))]\n",
        "\n",
        "# Ordenar la tabla de acuerdo a los coeficientes de rareza (de mayor a menor)\n",
        "rareness_table = sorted(rareness_table, key=lambda x: x[1], reverse=True)\n",
        "\n",
        "# Imprimir elementos de la tabla\n",
        "for term, score in rareness_table:\n",
        "    print(\"Term:\", term, \"| Score:\", score) #Observamos que 'acclaim' aparece con poca frecuencia en el conjunto de documentos. A diferencia de 'novel' que aparece con mayor frecuencia en los documentos."
      ],
      "metadata": {
        "colab": {
          "base_uri": "https://localhost:8080/"
        },
        "id": "ZPLwgSWq7L1e",
        "outputId": "c533285c-6993-4753-df65-238e0fd3b53d"
      },
      "execution_count": null,
      "outputs": [
        {
          "output_type": "stream",
          "name": "stdout",
          "text": [
            "Term: acclaim | Score: 0.6666666666666667\n",
            "Term: adapt | Score: 0.6666666666666667\n",
            "Term: adventure | Score: 0.6666666666666667\n",
            "Term: animal | Score: 0.6666666666666667\n",
            "Term: authoritarian | Score: 0.6666666666666667\n",
            "Term: award | Score: 0.6666666666666667\n",
            "Term: beast | Score: 0.6666666666666667\n",
            "Term: behaviour | Score: 0.6666666666666667\n",
            "Term: british | Score: 0.6666666666666667\n",
            "Term: broadly | Score: 0.6666666666666667\n",
            "Term: cautionary | Score: 0.6666666666666667\n",
            "Term: central | Score: 0.6666666666666667\n",
            "Term: centre | Score: 0.6666666666666667\n",
            "Term: classic | Score: 0.6666666666666667\n",
            "Term: complete | Score: 0.6666666666666667\n",
            "Term: consequence | Score: 0.6666666666666667\n",
            "Term: copy | Score: 0.6666666666666667\n",
            "Term: creation | Score: 0.6666666666666667\n",
            "Term: critical | Score: 0.6666666666666667\n",
            "Term: democratic | Score: 0.6666666666666667\n",
            "Term: destruction | Score: 0.6666666666666667\n",
            "Term: dystopian | Score: 0.6666666666666667\n",
            "Term: english | Score: 0.6666666666666667\n",
            "Term: entire | Score: 0.6666666666666667\n",
            "Term: era | Score: 0.6666666666666667\n",
            "Term: eventual | Score: 0.6666666666666667\n",
            "Term: evil | Score: 0.6666666666666667\n",
            "Term: examine | Score: 0.6666666666666667\n",
            "Term: fact | Score: 0.6666666666666667\n",
            "Term: fiction | Score: 0.6666666666666667\n",
            "Term: fictional | Score: 0.6666666666666667\n",
            "Term: film | Score: 0.6666666666666667\n",
            "Term: final | Score: 0.6666666666666667\n",
            "Term: game | Score: 0.6666666666666667\n",
            "Term: good | Score: 0.6666666666666667\n",
            "Term: illustrate | Score: 0.6666666666666667\n",
            "Term: juvenile | Score: 0.6666666666666667\n",
            "Term: lifetime | Score: 0.6666666666666667\n",
            "Term: lion | Score: 0.6666666666666667\n",
            "Term: literature | Score: 0.6666666666666667\n",
            "Term: magic | Score: 0.6666666666666667\n",
            "Term: magically | Score: 0.6666666666666667\n",
            "Term: manipulate | Score: 0.6666666666666667\n",
            "Term: mass | Score: 0.6666666666666667\n",
            "Term: model | Score: 0.6666666666666667\n",
            "Term: mythical | Score: 0.6666666666666667\n",
            "Term: narnian | Score: 0.6666666666666667\n",
            "Term: narrate | Score: 0.6666666666666667\n",
            "Term: ninth | Score: 0.6666666666666667\n",
            "Term: nominate | Score: 0.6666666666666667\n",
            "Term: originally | Score: 0.6666666666666667\n",
            "Term: people | Score: 0.6666666666666667\n",
            "Term: play | Score: 0.6666666666666667\n",
            "Term: portal | Score: 0.6666666666666667\n",
            "Term: prize | Score: 0.6666666666666667\n",
            "Term: protagonist | Score: 0.6666666666666667\n",
            "Term: protect | Score: 0.6666666666666667\n",
            "Term: radio | Score: 0.6666666666666667\n",
            "Term: real | Score: 0.6666666666666667\n",
            "Term: realm | Score: 0.6666666666666667\n",
            "Term: recognize | Score: 0.6666666666666667\n",
            "Term: regimentation | Score: 0.6666666666666667\n",
            "Term: repressive | Score: 0.6666666666666667\n",
            "Term: set | Score: 0.6666666666666667\n",
            "Term: socialist | Score: 0.6666666666666667\n",
            "Term: span | Score: 0.6666666666666667\n",
            "Term: stage | Score: 0.6666666666666667\n",
            "Term: state | Score: 0.6666666666666667\n",
            "Term: surveillance | Score: 0.6666666666666667\n",
            "Term: tale | Score: 0.6666666666666667\n",
            "Term: talking | Score: 0.6666666666666667\n",
            "Term: television | Score: 0.6666666666666667\n",
            "Term: thematically | Score: 0.6666666666666667\n",
            "Term: time | Score: 0.6666666666666667\n",
            "Term: totalitarianism | Score: 0.6666666666666667\n",
            "Term: transport | Score: 0.6666666666666667\n",
            "Term: truth | Score: 0.6666666666666667\n",
            "Term: unfold | Score: 0.6666666666666667\n",
            "Term: various | Score: 0.6666666666666667\n",
            "Term: video | Score: 0.6666666666666667\n",
            "Term: way | Score: 0.6666666666666667\n",
            "Term: wide | Score: 0.6666666666666667\n",
            "Term: writer | Score: 0.6666666666666667\n",
            "Term: author | Score: 0.33333333333333337\n",
            "Term: history | Score: 0.33333333333333337\n",
            "Term: role | Score: 0.33333333333333337\n",
            "Term: sell | Score: 0.33333333333333337\n",
            "Term: series | Score: 0.33333333333333337\n",
            "Term: society | Score: 0.33333333333333337\n",
            "Term: fantasy | Score: 0.0\n",
            "Term: world | Score: 0.0\n",
            "Term: book | Score: -0.33333333333333326\n",
            "Term: child | Score: -0.33333333333333326\n",
            "Term: publish | Score: -0.33333333333333326\n",
            "Term: novel | Score: -0.6666666666666667\n"
          ]
        }
      ]
    },
    {
      "cell_type": "markdown",
      "source": [
        "##Índice de relevancia\n",
        "Vamos a utilizar el índice de relevancia para indicar la importancia de un término en nuestro conjunto de documentos. Aquellos términos más representativos y su importancia en nuestro dataset.\n",
        "De forma parecida a otros métodos usados el índice de relevancia \"premia\" o refleja aquellos términos de manera más alta cuando estos aparecen con frecuencia en un documento específico pero no en otros documentos: eso los hace relevantes.(Pero no se basa en la frecuencia de términos como TF-IDF, sino en su importancia en relación con el dataset."
      ],
      "metadata": {
        "id": "p4_jZv6y7QOX"
      }
    },
    {
      "cell_type": "code",
      "source": [
        "from sklearn.feature_extraction.text import TfidfVectorizer\n",
        "\n",
        "# Definimos los parámetros del vectorizador\n",
        "vectorizer = TfidfVectorizer(ngram_range=(1, 3), stop_words=\"english\")\n",
        "\n",
        "# Aplicamos el vectorizador al corpus de texto\n",
        "X = vectorizer.fit_transform(texts_lem)\n",
        "\n",
        "# Obtienemos las características (términos) del corpus\n",
        "features = vectorizer.get_feature_names_out()\n",
        "\n",
        "# Obtienemos el índice de relevancia de cada término\n",
        "relevance_scores = X.sum(axis=0).A1\n",
        "\n",
        "# Creamos una tabla (lista de tuplas) con los términos y sus respectivos índices de relevancia\n",
        "relevance_table = [(features[i], relevance_scores[i]) for i in range(len(features))]\n",
        "\n",
        "# Ordenamos la tabla de acuerdo al índice de relevancia (de mayor a menor)\n",
        "relevance_table = sorted(relevance_table, key=lambda x: x[1], reverse=True)\n",
        "\n",
        "# Imprimimos la tabla de términos relevantes\n",
        "print(\"Term\\t\\tRelevance score\")\n",
        "for term, score in relevance_table:\n",
        "    print(\"{}\\t\\t{}\".format(term, score)) #Observamos que 'child' es el término más relevante según el índice de relevancia porque aparece con mayor freccuencia en un documento en específico pero no en otros."
      ],
      "metadata": {
        "colab": {
          "base_uri": "https://localhost:8080/"
        },
        "id": "UmY-5ypk7ST2",
        "outputId": "24426112-7bf2-422c-ea78-2a7003a21335"
      },
      "execution_count": null,
      "outputs": [
        {
          "output_type": "stream",
          "name": "stdout",
          "text": [
            "Term\t\tRelevance score\n",
            "child\t\t0.3021739980011803\n",
            "novel\t\t0.28081752050682657\n",
            "book\t\t0.2433757123932268\n",
            "sell\t\t0.242283210983371\n",
            "world\t\t0.23255892481452745\n",
            "publish\t\t0.22632252460420665\n",
            "fantasy\t\t0.21004268454496844\n",
            "society\t\t0.18453609733429338\n",
            "history\t\t0.15503928320968496\n",
            "series\t\t0.15503928320968496\n",
            "author\t\t0.15108699900059014\n",
            "fantasy novel\t\t0.15108699900059014\n",
            "role\t\t0.12912791480651523\n",
            "acclaim\t\t0.1211416054916855\n",
            "acclaim nominate\t\t0.1211416054916855\n",
            "acclaim nominate award\t\t0.1211416054916855\n",
            "author publish\t\t0.1211416054916855\n",
            "author publish wide\t\t0.1211416054916855\n",
            "award\t\t0.1211416054916855\n",
            "award prize\t\t0.1211416054916855\n",
            "award prize good\t\t0.1211416054916855\n",
            "book recognize\t\t0.1211416054916855\n",
            "book recognize classic\t\t0.1211416054916855\n",
            "book time\t\t0.1211416054916855\n",
            "book time copy\t\t0.1211416054916855\n",
            "child fantasy\t\t0.1211416054916855\n",
            "child fantasy novel\t\t0.1211416054916855\n",
            "child literature\t\t0.1211416054916855\n",
            "child literature sell\t\t0.1211416054916855\n",
            "classic\t\t0.1211416054916855\n",
            "classic child\t\t0.1211416054916855\n",
            "classic child literature\t\t0.1211416054916855\n",
            "copy\t\t0.1211416054916855\n",
            "copy sell\t\t0.1211416054916855\n",
            "critical\t\t0.1211416054916855\n",
            "critical acclaim\t\t0.1211416054916855\n",
            "critical acclaim nominate\t\t0.1211416054916855\n",
            "fantasy novel author\t\t0.1211416054916855\n",
            "fiction\t\t0.1211416054916855\n",
            "fiction book\t\t0.1211416054916855\n",
            "fiction book recognize\t\t0.1211416054916855\n",
            "good\t\t0.1211416054916855\n",
            "good juvenile\t\t0.1211416054916855\n",
            "good juvenile fiction\t\t0.1211416054916855\n",
            "juvenile\t\t0.1211416054916855\n",
            "juvenile fiction\t\t0.1211416054916855\n",
            "juvenile fiction book\t\t0.1211416054916855\n",
            "literature\t\t0.1211416054916855\n",
            "literature sell\t\t0.1211416054916855\n",
            "literature sell book\t\t0.1211416054916855\n",
            "nominate\t\t0.1211416054916855\n",
            "nominate award\t\t0.1211416054916855\n",
            "nominate award prize\t\t0.1211416054916855\n",
            "novel author\t\t0.1211416054916855\n",
            "novel author publish\t\t0.1211416054916855\n",
            "prize\t\t0.1211416054916855\n",
            "prize good\t\t0.1211416054916855\n",
            "prize good juvenile\t\t0.1211416054916855\n",
            "publish wide\t\t0.1211416054916855\n",
            "publish wide critical\t\t0.1211416054916855\n",
            "recognize\t\t0.1211416054916855\n",
            "recognize classic\t\t0.1211416054916855\n",
            "recognize classic child\t\t0.1211416054916855\n",
            "sell book\t\t0.1211416054916855\n",
            "sell book time\t\t0.1211416054916855\n",
            "time\t\t0.1211416054916855\n",
            "time copy\t\t0.1211416054916855\n",
            "time copy sell\t\t0.1211416054916855\n",
            "wide\t\t0.1211416054916855\n",
            "wide critical\t\t0.1211416054916855\n",
            "wide critical acclaim\t\t0.1211416054916855\n",
            "authoritarian\t\t0.09226804866714669\n",
            "authoritarian state\t\t0.09226804866714669\n",
            "authoritarian state novel\t\t0.09226804866714669\n",
            "behaviour\t\t0.09226804866714669\n",
            "behaviour society\t\t0.09226804866714669\n",
            "behaviour society democratic\t\t0.09226804866714669\n",
            "book complete\t\t0.09226804866714669\n",
            "book complete lifetime\t\t0.09226804866714669\n",
            "broadly\t\t0.09226804866714669\n",
            "broadly novel\t\t0.09226804866714669\n",
            "broadly novel examine\t\t0.09226804866714669\n",
            "cautionary\t\t0.09226804866714669\n",
            "cautionary tale\t\t0.09226804866714669\n",
            "cautionary tale english\t\t0.09226804866714669\n",
            "centre\t\t0.09226804866714669\n",
            "centre consequence\t\t0.09226804866714669\n",
            "centre consequence totalitarianism\t\t0.09226804866714669\n",
            "complete\t\t0.09226804866714669\n",
            "complete lifetime\t\t0.09226804866714669\n",
            "complete lifetime thematically\t\t0.09226804866714669\n",
            "consequence\t\t0.09226804866714669\n",
            "consequence totalitarianism\t\t0.09226804866714669\n",
            "consequence totalitarianism mass\t\t0.09226804866714669\n",
            "democratic\t\t0.09226804866714669\n",
            "democratic socialist\t\t0.09226804866714669\n",
            "democratic socialist model\t\t0.09226804866714669\n",
            "dystopian\t\t0.09226804866714669\n",
            "dystopian novel\t\t0.09226804866714669\n",
            "dystopian novel cautionary\t\t0.09226804866714669\n",
            "english\t\t0.09226804866714669\n",
            "english writer\t\t0.09226804866714669\n",
            "english writer publish\t\t0.09226804866714669\n",
            "era\t\t0.09226804866714669\n",
            "era broadly\t\t0.09226804866714669\n",
            "era broadly novel\t\t0.09226804866714669\n",
            "examine\t\t0.09226804866714669\n",
            "examine role\t\t0.09226804866714669\n",
            "examine role truth\t\t0.09226804866714669\n",
            "fact\t\t0.09226804866714669\n",
            "fact society\t\t0.09226804866714669\n",
            "fact society way\t\t0.09226804866714669\n",
            "final\t\t0.09226804866714669\n",
            "final book\t\t0.09226804866714669\n",
            "final book complete\t\t0.09226804866714669\n",
            "lifetime\t\t0.09226804866714669\n",
            "lifetime thematically\t\t0.09226804866714669\n",
            "lifetime thematically centre\t\t0.09226804866714669\n",
            "manipulate\t\t0.09226804866714669\n",
            "mass\t\t0.09226804866714669\n",
            "mass surveillance\t\t0.09226804866714669\n",
            "mass surveillance repressive\t\t0.09226804866714669\n",
            "model\t\t0.09226804866714669\n",
            "model authoritarian\t\t0.09226804866714669\n",
            "model authoritarian state\t\t0.09226804866714669\n",
            "ninth\t\t0.09226804866714669\n",
            "ninth final\t\t0.09226804866714669\n",
            "ninth final book\t\t0.09226804866714669\n",
            "novel cautionary\t\t0.09226804866714669\n",
            "novel cautionary tale\t\t0.09226804866714669\n",
            "novel era\t\t0.09226804866714669\n",
            "novel era broadly\t\t0.09226804866714669\n",
            "novel examine\t\t0.09226804866714669\n",
            "novel examine role\t\t0.09226804866714669\n",
            "people\t\t0.09226804866714669\n",
            "people behaviour\t\t0.09226804866714669\n",
            "people behaviour society\t\t0.09226804866714669\n",
            "publish dystopian\t\t0.09226804866714669\n",
            "publish dystopian novel\t\t0.09226804866714669\n",
            "publish ninth\t\t0.09226804866714669\n",
            "publish ninth final\t\t0.09226804866714669\n",
            "regimentation\t\t0.09226804866714669\n",
            "regimentation people\t\t0.09226804866714669\n",
            "regimentation people behaviour\t\t0.09226804866714669\n",
            "repressive\t\t0.09226804866714669\n",
            "repressive regimentation\t\t0.09226804866714669\n",
            "repressive regimentation people\t\t0.09226804866714669\n",
            "role truth\t\t0.09226804866714669\n",
            "role truth fact\t\t0.09226804866714669\n",
            "socialist\t\t0.09226804866714669\n",
            "socialist model\t\t0.09226804866714669\n",
            "socialist model authoritarian\t\t0.09226804866714669\n",
            "society democratic\t\t0.09226804866714669\n",
            "society democratic socialist\t\t0.09226804866714669\n",
            "society way\t\t0.09226804866714669\n",
            "society way manipulate\t\t0.09226804866714669\n",
            "state\t\t0.09226804866714669\n",
            "state novel\t\t0.09226804866714669\n",
            "state novel era\t\t0.09226804866714669\n",
            "surveillance\t\t0.09226804866714669\n",
            "surveillance repressive\t\t0.09226804866714669\n",
            "surveillance repressive regimentation\t\t0.09226804866714669\n",
            "tale\t\t0.09226804866714669\n",
            "tale english\t\t0.09226804866714669\n",
            "tale english writer\t\t0.09226804866714669\n",
            "thematically\t\t0.09226804866714669\n",
            "thematically centre\t\t0.09226804866714669\n",
            "thematically centre consequence\t\t0.09226804866714669\n",
            "totalitarianism\t\t0.09226804866714669\n",
            "totalitarianism mass\t\t0.09226804866714669\n",
            "totalitarianism mass surveillance\t\t0.09226804866714669\n",
            "truth\t\t0.09226804866714669\n",
            "truth fact\t\t0.09226804866714669\n",
            "truth fact society\t\t0.09226804866714669\n",
            "way\t\t0.09226804866714669\n",
            "way manipulate\t\t0.09226804866714669\n",
            "writer\t\t0.09226804866714669\n",
            "writer publish\t\t0.09226804866714669\n",
            "writer publish ninth\t\t0.09226804866714669\n",
            "adapt\t\t0.07751964160484248\n",
            "adapt radio\t\t0.07751964160484248\n",
            "adapt radio television\t\t0.07751964160484248\n",
            "adventure\t\t0.07751964160484248\n",
            "adventure various\t\t0.07751964160484248\n",
            "adventure various child\t\t0.07751964160484248\n",
            "animal\t\t0.07751964160484248\n",
            "animal narrate\t\t0.07751964160484248\n",
            "animal narrate adventure\t\t0.07751964160484248\n",
            "author illustrate\t\t0.07751964160484248\n",
            "author illustrate originally\t\t0.07751964160484248\n",
            "beast\t\t0.07751964160484248\n",
            "beast talking\t\t0.07751964160484248\n",
            "beast talking animal\t\t0.07751964160484248\n",
            "book span\t\t0.07751964160484248\n",
            "book span entire\t\t0.07751964160484248\n",
            "british\t\t0.07751964160484248\n",
            "british author\t\t0.07751964160484248\n",
            "british author illustrate\t\t0.07751964160484248\n",
            "central\t\t0.07751964160484248\n",
            "central role\t\t0.07751964160484248\n",
            "central role unfold\t\t0.07751964160484248\n",
            "child play\t\t0.07751964160484248\n",
            "child play central\t\t0.07751964160484248\n",
            "child real\t\t0.07751964160484248\n",
            "child real world\t\t0.07751964160484248\n",
            "creation\t\t0.07751964160484248\n",
            "creation eventual\t\t0.07751964160484248\n",
            "creation eventual destruction\t\t0.07751964160484248\n",
            "destruction\t\t0.07751964160484248\n",
            "entire\t\t0.07751964160484248\n",
            "entire history\t\t0.07751964160484248\n",
            "entire history creation\t\t0.07751964160484248\n",
            "eventual\t\t0.07751964160484248\n",
            "eventual destruction\t\t0.07751964160484248\n",
            "evil\t\t0.07751964160484248\n",
            "evil book\t\t0.07751964160484248\n",
            "evil book span\t\t0.07751964160484248\n",
            "fantasy novel british\t\t0.07751964160484248\n",
            "fantasy world\t\t0.07751964160484248\n",
            "fantasy world magic\t\t0.07751964160484248\n",
            "fictional\t\t0.07751964160484248\n",
            "fictional realm\t\t0.07751964160484248\n",
            "fictional realm fantasy\t\t0.07751964160484248\n",
            "film\t\t0.07751964160484248\n",
            "film video\t\t0.07751964160484248\n",
            "film video game\t\t0.07751964160484248\n",
            "game\t\t0.07751964160484248\n",
            "game series\t\t0.07751964160484248\n",
            "game series set\t\t0.07751964160484248\n",
            "history creation\t\t0.07751964160484248\n",
            "history creation eventual\t\t0.07751964160484248\n",
            "history narnian\t\t0.07751964160484248\n",
            "history narnian world\t\t0.07751964160484248\n",
            "illustrate\t\t0.07751964160484248\n",
            "illustrate originally\t\t0.07751964160484248\n",
            "illustrate originally publish\t\t0.07751964160484248\n",
            "lion\t\t0.07751964160484248\n",
            "lion protect\t\t0.07751964160484248\n",
            "lion protect evil\t\t0.07751964160484248\n",
            "magic\t\t0.07751964160484248\n",
            "magic mythical\t\t0.07751964160484248\n",
            "magic mythical beast\t\t0.07751964160484248\n",
            "magically\t\t0.07751964160484248\n",
            "magically transport\t\t0.07751964160484248\n",
            "magically transport lion\t\t0.07751964160484248\n",
            "mythical\t\t0.07751964160484248\n",
            "mythical beast\t\t0.07751964160484248\n",
            "mythical beast talking\t\t0.07751964160484248\n",
            "narnian\t\t0.07751964160484248\n",
            "narnian world\t\t0.07751964160484248\n",
            "narnian world protagonist\t\t0.07751964160484248\n",
            "narrate\t\t0.07751964160484248\n",
            "narrate adventure\t\t0.07751964160484248\n",
            "narrate adventure various\t\t0.07751964160484248\n",
            "novel british\t\t0.07751964160484248\n",
            "novel british author\t\t0.07751964160484248\n",
            "originally\t\t0.07751964160484248\n",
            "originally publish\t\t0.07751964160484248\n",
            "originally publish adapt\t\t0.07751964160484248\n",
            "play\t\t0.07751964160484248\n",
            "play central\t\t0.07751964160484248\n",
            "play central role\t\t0.07751964160484248\n",
            "portal\t\t0.07751964160484248\n",
            "portal fantasy\t\t0.07751964160484248\n",
            "portal fantasy novel\t\t0.07751964160484248\n",
            "protagonist\t\t0.07751964160484248\n",
            "protagonist child\t\t0.07751964160484248\n",
            "protagonist child real\t\t0.07751964160484248\n",
            "protect\t\t0.07751964160484248\n",
            "protect evil\t\t0.07751964160484248\n",
            "protect evil book\t\t0.07751964160484248\n",
            "publish adapt\t\t0.07751964160484248\n",
            "publish adapt radio\t\t0.07751964160484248\n",
            "radio\t\t0.07751964160484248\n",
            "radio television\t\t0.07751964160484248\n",
            "radio television stage\t\t0.07751964160484248\n",
            "real\t\t0.07751964160484248\n",
            "real world\t\t0.07751964160484248\n",
            "real world magically\t\t0.07751964160484248\n",
            "realm\t\t0.07751964160484248\n",
            "realm fantasy\t\t0.07751964160484248\n",
            "realm fantasy world\t\t0.07751964160484248\n",
            "role unfold\t\t0.07751964160484248\n",
            "role unfold history\t\t0.07751964160484248\n",
            "series portal\t\t0.07751964160484248\n",
            "series portal fantasy\t\t0.07751964160484248\n",
            "series set\t\t0.07751964160484248\n",
            "series set fictional\t\t0.07751964160484248\n",
            "set\t\t0.07751964160484248\n",
            "set fictional\t\t0.07751964160484248\n",
            "set fictional realm\t\t0.07751964160484248\n",
            "span\t\t0.07751964160484248\n",
            "span entire\t\t0.07751964160484248\n",
            "span entire history\t\t0.07751964160484248\n",
            "stage\t\t0.07751964160484248\n",
            "stage film\t\t0.07751964160484248\n",
            "stage film video\t\t0.07751964160484248\n",
            "talking\t\t0.07751964160484248\n",
            "talking animal\t\t0.07751964160484248\n",
            "talking animal narrate\t\t0.07751964160484248\n",
            "television\t\t0.07751964160484248\n",
            "television stage\t\t0.07751964160484248\n",
            "television stage film\t\t0.07751964160484248\n",
            "transport\t\t0.07751964160484248\n",
            "transport lion\t\t0.07751964160484248\n",
            "transport lion protect\t\t0.07751964160484248\n",
            "unfold\t\t0.07751964160484248\n",
            "unfold history\t\t0.07751964160484248\n",
            "unfold history narnian\t\t0.07751964160484248\n",
            "various\t\t0.07751964160484248\n",
            "various child\t\t0.07751964160484248\n",
            "various child play\t\t0.07751964160484248\n",
            "video\t\t0.07751964160484248\n",
            "video game\t\t0.07751964160484248\n",
            "video game series\t\t0.07751964160484248\n",
            "world magic\t\t0.07751964160484248\n",
            "world magic mythical\t\t0.07751964160484248\n",
            "world magically\t\t0.07751964160484248\n",
            "world magically transport\t\t0.07751964160484248\n",
            "world protagonist\t\t0.07751964160484248\n",
            "world protagonist child\t\t0.07751964160484248\n"
          ]
        }
      ]
    },
    {
      "cell_type": "markdown",
      "source": [
        "#Parte 2\n",
        "#Modelado de temas\n",
        "\n",
        "Todo documento trata una variedad de temas y cada tema se representa lingüísticamente a través de una variedad de palabras.\n",
        "- La semántica de nuestro documento/s se rige por determinadas variables ocultas/latentes (los temas).\n",
        "- En cada modelo se utilizan diferentes técnicas para descubrir los temas (algo que vamos a hacer en las siguientes líneas de código)"
      ],
      "metadata": {
        "id": "ri1H8a8T8F2n"
      }
    },
    {
      "cell_type": "markdown",
      "source": [
        "##Análisis semántico latente (LSA)\n",
        "\n",
        "Con esta técnica vamos a crear una matriz de términos - documentos (con ayuda de la clase TfidfVectorizer (vista anteriormente) y partiendo de nuestro dataset. Para, utilizando otra clase (TruncatedSVD), realizar la reducción de dimensionalidad de la matriz.\n",
        "\n",
        "El objetivo es reducir la matriz creada que represente nuestro corpus en una serie de matrices filtradas que recojan los patrones más significativos (relaciones semánticas enter las palabras, y que subyacen a los datos en la matriz original). Es más sencillo comparar la similitud semántica entre dos vectores reducidos que entre dos vectores extensos."
      ],
      "metadata": {
        "id": "q1nSzcgMFnHn"
      }
    },
    {
      "cell_type": "code",
      "source": [
        "from sklearn.decomposition import TruncatedSVD\n",
        "from sklearn.feature_extraction.text import TfidfVectorizer\n",
        "\n",
        "# Introducimos nuestros textos de entrada\n",
        "texts = [text_wikipedia_hobbit,text_wikipedia_1984,text_wikipedia_narnia]\n",
        "\n",
        "import spacy\n",
        "# Cargamos el modelo de spaCy para el idioma inglés\n",
        "nlp = spacy.load(\"en_core_web_sm\", disable = [\"parser\", \"ner\"])\n",
        "\n",
        "texts_lem = []\n",
        "for text in texts:\n",
        "    # Procesamos el texto con spaCy\n",
        "    doc = nlp(text)\n",
        "    # Creamos una lista de las palabras lematizadas del texto\n",
        "    lemmas = [token.lemma_ for token in doc]\n",
        "    # Unimos las palabras lematizadas en una cadena\n",
        "    text_lem = \" \".join(lemmas)\n",
        "    texts_lem.append(text_lem)\n",
        "texts_lem #Se muestra la lista de cadenas, en la que cada una está lematizada"
      ],
      "metadata": {
        "colab": {
          "base_uri": "https://localhost:8080/"
        },
        "id": "BGGc2NbI8JCe",
        "outputId": "c3ef0b32-be75-43ec-ddaa-81866ce09980"
      },
      "execution_count": null,
      "outputs": [
        {
          "output_type": "execute_result",
          "data": {
            "text/plain": [
              "[\"the Hobbit , or there and Back again be a child 's fantasy novel by English author J. R. R. Tolkien . it be publish in 1937 to wide critical acclaim , be nominate for the Carnegie Medal and award a prize from the New York Herald Tribune for good juvenile fiction . the book be recognize as a classic in child 's literature and be one of the well - sell book of all time , with over 100 million copy sell . \\n\",\n",
              " \"Nineteen Eighty - Four ( also publish as 1984 ) be a dystopian novel and cautionary tale by english writer George Orwell . it be publish on 8 June 1949 by Secker & Warburg as Orwell 's ninth and final book complete in his lifetime . thematically , it centre on the consequence of totalitarianism , mass surveillance and repressive regimentation of people and behaviour within society . Orwell , a democratic socialist , model the authoritarian state in the novel on the Soviet Union in the era of Stalinism , and Nazi Germany . more broadly , the novel examine the role of truth and fact within society and the way in which they can be manipulate . \\n\",\n",
              " \"the Chronicles of Narnia be a series of seven portal fantasy novel by british author C. S. Lewis . illustrate by Pauline Baynes and originally publish between 1950 and 1956 , the Chronicles of Narnia have be adapt for radio , television , the stage , film , and video game . the series be set in the fictional realm of Narnia , a fantasy world of magic , mythical beast and talking animal . it narrate the adventure of various child who play central role in the unfold history of the narnian world . except in the Horse and his Boy , the protagonist be all child from the real world who be magically transport to Narnia , where they be sometimes call upon by the lion Aslan to protect Narnia from evil . the book span the entire history of Narnia , from its creation in the Magician 's Nephew to its eventual destruction in the Last Battle . \\n\"]"
            ]
          },
          "metadata": {},
          "execution_count": 26
        }
      ]
    },
    {
      "cell_type": "code",
      "source": [
        "# Utilizar TfidfVectorizer para crear una matriz de términos-documentos\n",
        "tfidf_vectorizer = TfidfVectorizer(stop_words=\"english\", ngram_range = (1,3))\n",
        "tdm = tfidf_vectorizer.fit_transform(texts_lem)\n",
        "\n",
        "# Utilizar TruncatedSVD para realizar la reducción de dimensionalidad\n",
        "lsa = TruncatedSVD(n_components=2) #Especificamos en el número de componentes que queremos 2 temas pero más adelante veremos cuántos temas debemos utilizar para este experimento.\n",
        "lsa_vectors = lsa.fit_transform(tdm)"
      ],
      "metadata": {
        "id": "cIAHa046LSpJ"
      },
      "execution_count": null,
      "outputs": []
    },
    {
      "cell_type": "code",
      "source": [
        "# Obtenemos las palabras con mayor peso en cada componente, ya que queremos asociar palabras significativas a cada tema.\n",
        "terms = tfidf_vectorizer.get_feature_names_out() #EL método get_feature_names_out se utiliza para obtener la lista de términos utilizados en la matriz de términos documentos\n",
        "for i, comp in enumerate(lsa.components_):\n",
        "    terms_comp = zip(terms, comp) #Con zip asociamos cada térmono a su peso en el componente.\n",
        "    sorted_terms = sorted(terms_comp, key= lambda x:x[1], reverse=True)[:10] #Con sorted ordenamos los términos por peso e imprimos los 10 con mayor peso en cada componente.\n",
        "    print(\"Topic \"+str(i)+\": \")\n",
        "    for t in sorted_terms:\n",
        "        print(t)"
      ],
      "metadata": {
        "colab": {
          "base_uri": "https://localhost:8080/"
        },
        "id": "nS4m0N47LU5Q",
        "outputId": "e7c96868-e6af-48d6-a8be-13531c5f889e"
      },
      "execution_count": null,
      "outputs": [
        {
          "output_type": "stream",
          "name": "stdout",
          "text": [
            "Topic 0: \n",
            "('narnia', 0.21871448889768347)\n",
            "('child', 0.1510231601497003)\n",
            "('sell', 0.12567247704675766)\n",
            "('novel', 0.11882733141732674)\n",
            "('book', 0.1158155239281705)\n",
            "('world', 0.10935724444884173)\n",
            "('fantasy', 0.10323458112014426)\n",
            "('orwell', 0.10190350782304959)\n",
            "('publish', 0.09876538031761022)\n",
            "('author', 0.07551158007485015)\n",
            "Topic 1: \n",
            "('orwell', 0.19848220752867843)\n",
            "('society', 0.1323214716857856)\n",
            "('novel', 0.09057683700658377)\n",
            "('1949', 0.0661607358428928)\n",
            "('1949 secker', 0.0661607358428928)\n",
            "('1949 secker warburg', 0.0661607358428928)\n",
            "('1984', 0.0661607358428928)\n",
            "('1984 dystopian', 0.0661607358428928)\n",
            "('1984 dystopian novel', 0.0661607358428928)\n",
            "('authoritarian', 0.0661607358428928)\n"
          ]
        }
      ]
    },
    {
      "cell_type": "markdown",
      "source": [
        "##Método del codo para determinar el número de temas apropiado\n",
        "En este momento, y aunque hemos hecho una prueba, queremos determinar el número de temas apropiado. Para ello vamos a llevar a cabo el Método del codo, que se basa en que el número óptimo de temas es el que **maximiza la varianza explicada de los temas mientras se minimiza el número de temas. **El número de temas óptimo se determina mediante la observación de un gráfico de varianza explicada vs número de temas, se busca un punto donde el cambio en la varianza explicada disminuye significativamente."
      ],
      "metadata": {
        "id": "T5DUfFy5NWch"
      }
    },
    {
      "cell_type": "code",
      "source": [
        "import matplotlib.pyplot as plt\n",
        "#Vamos a calcular la varianza por cada número de temas utilizando un rango de 1 a 10,\n",
        "#pero antes hemos importado la biblioteca para crear la gráfica donde ver la varianza explicada y el número de componentes (después)\n",
        "\n",
        "# Calculamos la varianza explicada por cada número de componentes\n",
        "varianza_explicada = []\n",
        "for i in range(1, 11):\n",
        "    lsa = TruncatedSVD(n_components=i) #Utilizamos TruncatedSVD\n",
        "    lsa_vectors = lsa.fit_transform(tdm)\n",
        "    varianza_explicada.append(lsa.explained_variance_ratio_.sum())\n",
        "\n",
        "# Gráfico de la varianza explicada vs número de componentes (En este momento dudé si podía estar mal ya que me da los mismos \"3\" que en clase)\n",
        "plt.plot(range(1, 11), varianza_explicada)\n",
        "plt.xlabel('Número de componentes')\n",
        "plt.ylabel('Varianza explicada')\n",
        "plt.show() ##En este caso probe con otros textos y me daba un resultado distinto pero con estos era parecido al visto en clase"
      ],
      "metadata": {
        "colab": {
          "base_uri": "https://localhost:8080/",
          "height": 450
        },
        "id": "vPEiBW-mNQrh",
        "outputId": "1e2e3add-254d-45af-f7e5-17eb147ffd64"
      },
      "execution_count": null,
      "outputs": [
        {
          "output_type": "display_data",
          "data": {
            "text/plain": [
              "<Figure size 640x480 with 1 Axes>"
            ],
            "image/png": "[encoded data removed]"
          },
          "metadata": {}
        }
      ]
    },
    {
      "cell_type": "code",
      "source": [
        "# Utilizamos TruncatedSVD para realizar la reducción de dimensionalidad\n",
        "lsa = TruncatedSVD(n_components=3) #Hemos visto que el número de temas óptimo es 3, por lo que le pasamos ese número.\n",
        "lsa_vectors = lsa.fit_transform(tdm)\n",
        "\n",
        "# Obtenemos las palabras con mayor peso en cada componente\n",
        "terms = tfidf_vectorizer.get_feature_names_out()\n",
        "for i, comp in enumerate(lsa.components_):\n",
        "    terms_comp = zip(terms, comp)\n",
        "    sorted_terms = sorted(terms_comp, key= lambda x:x[1], reverse=True)[:10]\n",
        "    print(\"Topic \"+str(i+1)+\": \")\n",
        "    for t in sorted_terms:\n",
        "        print(t) #Aquí observo que en el primer tema encuentro palabras de los tres\n",
        "        #textos relacionadas con 'libros', en el segundo con el texto de 1984; y el tercero con \"autor\""
      ],
      "metadata": {
        "colab": {
          "base_uri": "https://localhost:8080/"
        },
        "id": "lUH56T3vPWFU",
        "outputId": "332e754a-c4d3-4f7a-ca64-074342038bf0"
      },
      "execution_count": null,
      "outputs": [
        {
          "output_type": "stream",
          "name": "stdout",
          "text": [
            "Topic 1: \n",
            "('narnia', 0.21871448889769127)\n",
            "('child', 0.15102316014970404)\n",
            "('sell', 0.12567247704676002)\n",
            "('novel', 0.11882733141732205)\n",
            "('book', 0.11581552392817061)\n",
            "('world', 0.10935724444884563)\n",
            "('fantasy', 0.10323458112014715)\n",
            "('orwell', 0.10190350782303914)\n",
            "('publish', 0.09876538031760757)\n",
            "('author', 0.07551158007485202)\n",
            "Topic 2: \n",
            "('orwell', 0.19848220752868193)\n",
            "('society', 0.13232147168578795)\n",
            "('novel', 0.09057683700658949)\n",
            "('1949', 0.06616073584289398)\n",
            "('1949 secker', 0.06616073584289398)\n",
            "('1949 secker warburg', 0.06616073584289398)\n",
            "('1984', 0.06616073584289398)\n",
            "('1984 dystopian', 0.06616073584289398)\n",
            "('1984 dystopian novel', 0.06616073584289398)\n",
            "('authoritarian', 0.06616073584289398)\n",
            "Topic 3: \n",
            "('sell', 0.14822352288250373)\n",
            "('100 million', 0.0741117614412521)\n",
            "('100', 0.07411176144125194)\n",
            "('100 million copy', 0.07411176144125192)\n",
            "('1937', 0.07411176144125187)\n",
            "('1937 wide', 0.07411176144125187)\n",
            "('1937 wide critical', 0.07411176144125187)\n",
            "('acclaim', 0.07411176144125187)\n",
            "('acclaim nominate', 0.07411176144125187)\n",
            "('acclaim nominate carnegie', 0.07411176144125187)\n"
          ]
        }
      ]
    },
    {
      "cell_type": "markdown",
      "source": [
        "##Análisis latente probabilístico (PLSA)\n",
        "En este momento queremos encontrar patrones ocultos o temas en un conjunto de datos, para ello deberemos analizar el contenido de un conjunto de elementos. Para ellos utilizaremos el algoritmo supervisado del PLSA."
      ],
      "metadata": {
        "id": "64GeJhk-PoC8"
      }
    },
    {
      "cell_type": "code",
      "source": [
        "!pip install plsa #Instalamos una librería desarrollada específicamente para el análisis probabilístico latente"
      ],
      "metadata": {
        "colab": {
          "base_uri": "https://localhost:8080/"
        },
        "id": "m-3a1A2WPnmJ",
        "outputId": "c70fd308-5738-4ee0-af57-cbdce8af7b80"
      },
      "execution_count": null,
      "outputs": [
        {
          "output_type": "stream",
          "name": "stdout",
          "text": [
            "Requirement already satisfied: plsa in /usr/local/lib/python3.10/dist-packages (0.6.0)\n",
            "Requirement already satisfied: matplotlib>=3.0 in /usr/local/lib/python3.10/dist-packages (from plsa) (3.7.1)\n",
            "Requirement already satisfied: nltk>=3.4.5 in /usr/local/lib/python3.10/dist-packages (from plsa) (3.8.1)\n",
            "Requirement already satisfied: numpy>=1.16 in /usr/local/lib/python3.10/dist-packages (from plsa) (1.23.5)\n",
            "Requirement already satisfied: wordcloud>=1.5 in /usr/local/lib/python3.10/dist-packages (from plsa) (1.9.3)\n",
            "Requirement already satisfied: contourpy>=1.0.1 in /usr/local/lib/python3.10/dist-packages (from matplotlib>=3.0->plsa) (1.2.0)\n",
            "Requirement already satisfied: cycler>=0.10 in /usr/local/lib/python3.10/dist-packages (from matplotlib>=3.0->plsa) (0.12.1)\n",
            "Requirement already satisfied: fonttools>=4.22.0 in /usr/local/lib/python3.10/dist-packages (from matplotlib>=3.0->plsa) (4.47.2)\n",
            "Requirement already satisfied: kiwisolver>=1.0.1 in /usr/local/lib/python3.10/dist-packages (from matplotlib>=3.0->plsa) (1.4.5)\n",
            "Requirement already satisfied: packaging>=20.0 in /usr/local/lib/python3.10/dist-packages (from matplotlib>=3.0->plsa) (23.2)\n",
            "Requirement already satisfied: pillow>=6.2.0 in /usr/local/lib/python3.10/dist-packages (from matplotlib>=3.0->plsa) (9.4.0)\n",
            "Requirement already satisfied: pyparsing>=2.3.1 in /usr/local/lib/python3.10/dist-packages (from matplotlib>=3.0->plsa) (3.1.1)\n",
            "Requirement already satisfied: python-dateutil>=2.7 in /usr/local/lib/python3.10/dist-packages (from matplotlib>=3.0->plsa) (2.8.2)\n",
            "Requirement already satisfied: click in /usr/local/lib/python3.10/dist-packages (from nltk>=3.4.5->plsa) (8.1.7)\n",
            "Requirement already satisfied: joblib in /usr/local/lib/python3.10/dist-packages (from nltk>=3.4.5->plsa) (1.3.2)\n",
            "Requirement already satisfied: regex>=2021.8.3 in /usr/local/lib/python3.10/dist-packages (from nltk>=3.4.5->plsa) (2023.12.25)\n",
            "Requirement already satisfied: tqdm in /usr/local/lib/python3.10/dist-packages (from nltk>=3.4.5->plsa) (4.66.1)\n",
            "Requirement already satisfied: six>=1.5 in /usr/local/lib/python3.10/dist-packages (from python-dateutil>=2.7->matplotlib>=3.0->plsa) (1.16.0)\n"
          ]
        }
      ]
    },
    {
      "cell_type": "code",
      "source": [
        "from plsa import Corpus, Pipeline, Visualize #Aquí quería importar las librerías necesarias para el procesamiento de texto pero no pude a la primera.\n",
        "from plsa.pipeline import DEFAULT_PIPELINE\n",
        "from plsa.algorithms import PLSA\n",
        "import nltk\n",
        "nltk.download('omw-1.4')\n",
        "\n",
        "\n"
      ],
      "metadata": {
        "colab": {
          "base_uri": "https://localhost:8080/"
        },
        "id": "B3jZs6rvP5fJ",
        "outputId": "fe872c82-8ab5-474c-d3b1-88cfe643bb77"
      },
      "execution_count": null,
      "outputs": [
        {
          "output_type": "stream",
          "name": "stderr",
          "text": [
            "[nltk_data] Downloading package omw-1.4 to /root/nltk_data...\n",
            "[nltk_data]   Package omw-1.4 is already up-to-date!\n"
          ]
        },
        {
          "output_type": "execute_result",
          "data": {
            "text/plain": [
              "True"
            ]
          },
          "metadata": {},
          "execution_count": 32
        }
      ]
    },
    {
      "cell_type": "code",
      "source": [
        "pipeline = Pipeline(*DEFAULT_PIPELINE) #Creamos la instancia \"pipeline\" que tiene etapas de procesamiento de texto predefinidas.\n",
        "pipeline"
      ],
      "metadata": {
        "colab": {
          "base_uri": "https://localhost:8080/"
        },
        "id": "SQ0sx0Y3P_QA",
        "outputId": "3552ddde-9e52-4df5-bcfa-e313fcdaf1a3"
      },
      "execution_count": null,
      "outputs": [
        {
          "output_type": "execute_result",
          "data": {
            "text/plain": [
              "Pipeline:\n",
              "========\n",
              "0: remove_non_ascii\n",
              "1: to_lower\n",
              "2: remove_numbers\n",
              "3: tag_remover\n",
              "4: punctuation_remover\n",
              "5: tokenize\n",
              "6: LemmatizeWords\n",
              "7: RemoveStopwords\n",
              "8: short_word_remover"
            ]
          },
          "metadata": {},
          "execution_count": 33
        }
      ]
    },
    {
      "cell_type": "code",
      "source": [
        "import nltk #Aquí me descargue las que me había dado error antes\n",
        "nltk.download('averaged_perceptron_tagger')\n"
      ],
      "metadata": {
        "colab": {
          "base_uri": "https://localhost:8080/"
        },
        "id": "W3Dk2z8URdpl",
        "outputId": "8d23f796-aafd-471d-8ec8-19ca33b1b8d0"
      },
      "execution_count": null,
      "outputs": [
        {
          "output_type": "stream",
          "name": "stderr",
          "text": [
            "[nltk_data] Downloading package averaged_perceptron_tagger to\n",
            "[nltk_data]     /root/nltk_data...\n",
            "[nltk_data]   Package averaged_perceptron_tagger is already up-to-\n",
            "[nltk_data]       date!\n"
          ]
        },
        {
          "output_type": "execute_result",
          "data": {
            "text/plain": [
              "True"
            ]
          },
          "metadata": {},
          "execution_count": 34
        }
      ]
    },
    {
      "cell_type": "code",
      "source": [
        "import nltk #Aquí también me descargo la que me faltaba de forma individual ya que juntas no me dejaba (quería que el codigo estuviese limpio pero a veces es complicado)\n",
        "nltk.download('wordnet')\n"
      ],
      "metadata": {
        "colab": {
          "base_uri": "https://localhost:8080/"
        },
        "id": "xspBqo1FRstv",
        "outputId": "b867ba12-efa3-42b8-80fd-b398744ddad2"
      },
      "execution_count": null,
      "outputs": [
        {
          "output_type": "stream",
          "name": "stderr",
          "text": [
            "[nltk_data] Downloading package wordnet to /root/nltk_data...\n",
            "[nltk_data]   Package wordnet is already up-to-date!\n"
          ]
        },
        {
          "output_type": "execute_result",
          "data": {
            "text/plain": [
              "True"
            ]
          },
          "metadata": {},
          "execution_count": 35
        }
      ]
    },
    {
      "cell_type": "code",
      "source": [
        "corpus = Corpus(texts, pipeline) #Creamos una instancia de la clase \"Corpus\" a partir de los textos y el pipeline\n",
        "corpus"
      ],
      "metadata": {
        "colab": {
          "base_uri": "https://localhost:8080/"
        },
        "id": "JbGiMabLRuoI",
        "outputId": "f9683c42-6d0c-446d-e5f5-e396e762386a"
      },
      "execution_count": null,
      "outputs": [
        {
          "output_type": "execute_result",
          "data": {
            "text/plain": [
              "Corpus:\n",
              "======\n",
              "Number of documents: 3\n",
              "Number of words:     72"
            ]
          },
          "metadata": {},
          "execution_count": 36
        }
      ]
    },
    {
      "cell_type": "code",
      "source": [
        "n_topics = 2 #Especificamos el número de temas deseado (2). Aquí descubrí que el número de los documentos y de palabras debe ser superior a 3 (me daba ese erro si ponía otro número de temas)\n",
        "plsa = PLSA(corpus, n_topics, True) #Creamos la instancia \"PLSA\" con el corpus, el número de temas y la bandera.\n",
        "plsa"
      ],
      "metadata": {
        "colab": {
          "base_uri": "https://localhost:8080/"
        },
        "id": "lQV9r37iRy7a",
        "outputId": "44e86956-6464-49fe-f2d6-a74cd3d052b1"
      },
      "execution_count": null,
      "outputs": [
        {
          "output_type": "execute_result",
          "data": {
            "text/plain": [
              "PLSA:\n",
              "====\n",
              "Number of topics:     2\n",
              "Number of documents:  3\n",
              "Number of words:      72\n",
              "Number of iterations: 0"
            ]
          },
          "metadata": {},
          "execution_count": 45
        }
      ]
    },
    {
      "cell_type": "code",
      "source": [
        "result = plsa.fit() #Utilizamos el método fit para ajustar el modelo PLSA al corpus.\n",
        "plsa"
      ],
      "metadata": {
        "colab": {
          "base_uri": "https://localhost:8080/"
        },
        "id": "0jh2Ai5QR1zs",
        "outputId": "23b5f897-edfa-4bec-ac4c-2aae4b19692b"
      },
      "execution_count": null,
      "outputs": [
        {
          "output_type": "execute_result",
          "data": {
            "text/plain": [
              "PLSA:\n",
              "====\n",
              "Number of topics:     2\n",
              "Number of documents:  3\n",
              "Number of words:      72\n",
              "Number of iterations: 13"
            ]
          },
          "metadata": {},
          "execution_count": 38
        }
      ]
    },
    {
      "cell_type": "code",
      "source": [
        "result = plsa.best_of(5) #Utilizamos el método best_of para seleccionar la mejor configuración de resultados de los últimos 5 ajustes\n",
        "result"
      ],
      "metadata": {
        "colab": {
          "base_uri": "https://localhost:8080/"
        },
        "id": "osRvUbwDR4XF",
        "outputId": "db934c31-3198-4615-8f3f-8e26ef87772e"
      },
      "execution_count": null,
      "outputs": [
        {
          "output_type": "execute_result",
          "data": {
            "text/plain": [
              "PlsaResult:\n",
              "==========\n",
              "Number of topics:    2\n",
              "Number of documents: 3\n",
              "Number of words:     72"
            ]
          },
          "metadata": {},
          "execution_count": 39
        }
      ]
    },
    {
      "cell_type": "code",
      "source": [
        "for i, topic in enumerate(result.word_given_topic): #Imprimimos los temas y palabras más probables de cada tema\n",
        "   print(\"Topic \"+str(i+1)+\": \")\n",
        "   for term in topic[:10]:\n",
        "     print(term) #Observamos que 'narnia' y 'society' son las palabras más probables en sus respectivos temas."
      ],
      "metadata": {
        "colab": {
          "base_uri": "https://localhost:8080/"
        },
        "id": "SNiOs18hR67_",
        "outputId": "186c57f4-3513-4e4d-9547-bf31792a2acf"
      },
      "execution_count": null,
      "outputs": [
        {
          "output_type": "stream",
          "name": "stdout",
          "text": [
            "Topic 1: \n",
            "('society', 0.047085101463395194)\n",
            "('hobbit', 0.023542550731697597)\n",
            "('warburg', 0.023542550731697597)\n",
            "('orwell', 0.023542550731697597)\n",
            "('lifetime', 0.023542550731697597)\n",
            "('consequence', 0.023542550731697597)\n",
            "('totalitarianism', 0.023542550731697597)\n",
            "('mass', 0.023542550731697597)\n",
            "('surveillance', 0.023542550731697597)\n",
            "('regimentation', 0.023542550731697597)\n",
            "Topic 2: \n",
            "('narnia', 0.13341772098212953)\n",
            "('world', 0.0800506325892777)\n",
            "('chronicle', 0.053367088392851814)\n",
            "('series', 0.053367088392851814)\n",
            "('history', 0.053367088392851814)\n",
            "('battle', 0.026683544196425907)\n",
            "('lewis', 0.026683544196425907)\n",
            "('baynes', 0.026683544196425907)\n",
            "('radio', 0.026683544196425907)\n",
            "('television', 0.026683544196425907)\n"
          ]
        }
      ]
    },
    {
      "cell_type": "markdown",
      "source": [
        "### Análisis Latente Dirichlet (LDA)\n",
        "\n",
        "Sin embargo, si queremos utilizar el que se considera una mejora del probabilístico debemos utilizar la Asignación de Dirichlet Latente (LDA).\n",
        "\n",
        "Es un red bayesiana (representa un conjunto de variables y sus relaciones pribabilísticas a través de un grafo sobre el que se pueden hacer inferencias).\n",
        "\n",
        "Nuestro objetivo es descubrir temas en nuestro dataset."
      ],
      "metadata": {
        "id": "cJfWa6mGR-o9"
      }
    },
    {
      "cell_type": "code",
      "source": [
        "from sklearn.decomposition import LatentDirichletAllocation #Utilizamos la librería sklearn para el anális y la clase LatentDirichletAllocation para ajustar el modelo LDA.\n",
        "from sklearn.feature_extraction.text import CountVectorizer #Utilizamos la clase CountVectorizer para crear una matriz de términos-documentos y para obtener los nombres de las características.\n",
        "\n",
        "# Creamos una matriz de términos-documentos\n",
        "cv = CountVectorizer(stop_words=\"english\")\n",
        "X = cv.fit_transform(texts_lem)\n",
        "\n",
        "# Ajustamos varios modelos de LDA con diferentes números de temas\n",
        "n_topics = range(1, 11)\n",
        "sse = []\n",
        "for n in n_topics:\n",
        "  lda = LatentDirichletAllocation(n_components=n)\n",
        "  lda.fit(X)\n",
        "  sse.append(lda.score(X)) ##Buscamos obtener la suma de las desviaciones cuadráticas\n",
        "\n",
        "# Graficamos el número de desviaciones cuadráticas (SSE) versus el número de temas\n",
        "plt.plot(n_topics, sse)\n",
        "plt.xlabel('Number of topics')\n",
        "plt.ylabel('SSE')\n",
        "plt.show()   #Buscamos, mediante el Método del Codo, saber el punto en el que la curva refleja como la disminución de SEE comienza a\n",
        "##disminuir significativamente. En este caso en el número de temas = 7, llegando a 980 desviaciones cuadráticas"
      ],
      "metadata": {
        "colab": {
          "base_uri": "https://localhost:8080/",
          "height": 449
        },
        "id": "yhlrWMXrSCqb",
        "outputId": "33839709-aa54-4f12-cd83-35c8601070e0"
      },
      "execution_count": null,
      "outputs": [
        {
          "output_type": "display_data",
          "data": {
            "text/plain": [
              "<Figure size 640x480 with 1 Axes>"
            ],
            "image/png": "[encoded data removed]"
          },
          "metadata": {}
        }
      ]
    },
    {
      "cell_type": "code",
      "source": [
        "# Realizamos el topic modeling con LDA\n",
        "lda = LatentDirichletAllocation(n_components=7) #He elegido finalmente 7 temas porque considero que es el punto claro donde la disminución en SEE comienza a hacerlo de forma significativa.\n",
        "lda.fit(X) # \"X \" representa lo que ha transformado el vectorizador de los textos lematizados"
      ],
      "metadata": {
        "id": "VmkDFVIhSKZk",
        "outputId": "60d7cd2a-92e3-4cc4-86b7-85ed4d190e06",
        "colab": {
          "base_uri": "https://localhost:8080/",
          "height": 75
        }
      },
      "execution_count": null,
      "outputs": [
        {
          "output_type": "execute_result",
          "data": {
            "text/plain": [
              "LatentDirichletAllocation(n_components=7)"
            ],
            "text/html": [
              "<style>#sk-container-id-2 {color: black;background-color: white;}#sk-container-id-2 pre{padding: 0;}#sk-container-id-2 div.sk-toggleable {background-color: white;}#sk-container-id-2 label.sk-toggleable__label {cursor: pointer;display: block;width: 100%;margin-bottom: 0;padding: 0.3em;box-sizing: border-box;text-align: center;}#sk-container-id-2 label.sk-toggleable__label-arrow:before {content: \"▸\";float: left;margin-right: 0.25em;color: #696969;}#sk-container-id-2 label.sk-toggleable__label-arrow:hover:before {color: black;}#sk-container-id-2 div.sk-estimator:hover label.sk-toggleable__label-arrow:before {color: black;}#sk-container-id-2 div.sk-toggleable__content {max-height: 0;max-width: 0;overflow: hidden;text-align: left;background-color: #f0f8ff;}#sk-container-id-2 div.sk-toggleable__content pre {margin: 0.2em;color: black;border-radius: 0.25em;background-color: #f0f8ff;}#sk-container-id-2 input.sk-toggleable__control:checked~div.sk-toggleable__content {max-height: 200px;max-width: 100%;overflow: auto;}#sk-container-id-2 input.sk-toggleable__control:checked~label.sk-toggleable__label-arrow:before {content: \"▾\";}#sk-container-id-2 div.sk-estimator input.sk-toggleable__control:checked~label.sk-toggleable__label {background-color: #d4ebff;}#sk-container-id-2 div.sk-label input.sk-toggleable__control:checked~label.sk-toggleable__label {background-color: #d4ebff;}#sk-container-id-2 input.sk-hidden--visually {border: 0;clip: rect(1px 1px 1px 1px);clip: rect(1px, 1px, 1px, 1px);height: 1px;margin: -1px;overflow: hidden;padding: 0;position: absolute;width: 1px;}#sk-container-id-2 div.sk-estimator {font-family: monospace;background-color: #f0f8ff;border: 1px dotted black;border-radius: 0.25em;box-sizing: border-box;margin-bottom: 0.5em;}#sk-container-id-2 div.sk-estimator:hover {background-color: #d4ebff;}#sk-container-id-2 div.sk-parallel-item::after {content: \"\";width: 100%;border-bottom: 1px solid gray;flex-grow: 1;}#sk-container-id-2 div.sk-label:hover label.sk-toggleable__label {background-color: #d4ebff;}#sk-container-id-2 div.sk-serial::before {content: \"\";position: absolute;border-left: 1px solid gray;box-sizing: border-box;top: 0;bottom: 0;left: 50%;z-index: 0;}#sk-container-id-2 div.sk-serial {display: flex;flex-direction: column;align-items: center;background-color: white;padding-right: 0.2em;padding-left: 0.2em;position: relative;}#sk-container-id-2 div.sk-item {position: relative;z-index: 1;}#sk-container-id-2 div.sk-parallel {display: flex;align-items: stretch;justify-content: center;background-color: white;position: relative;}#sk-container-id-2 div.sk-item::before, #sk-container-id-2 div.sk-parallel-item::before {content: \"\";position: absolute;border-left: 1px solid gray;box-sizing: border-box;top: 0;bottom: 0;left: 50%;z-index: -1;}#sk-container-id-2 div.sk-parallel-item {display: flex;flex-direction: column;z-index: 1;position: relative;background-color: white;}#sk-container-id-2 div.sk-parallel-item:first-child::after {align-self: flex-end;width: 50%;}#sk-container-id-2 div.sk-parallel-item:last-child::after {align-self: flex-start;width: 50%;}#sk-container-id-2 div.sk-parallel-item:only-child::after {width: 0;}#sk-container-id-2 div.sk-dashed-wrapped {border: 1px dashed gray;margin: 0 0.4em 0.5em 0.4em;box-sizing: border-box;padding-bottom: 0.4em;background-color: white;}#sk-container-id-2 div.sk-label label {font-family: monospace;font-weight: bold;display: inline-block;line-height: 1.2em;}#sk-container-id-2 div.sk-label-container {text-align: center;}#sk-container-id-2 div.sk-container {/* jupyter's `normalize.less` sets `[hidden] { display: none; }` but bootstrap.min.css set `[hidden] { display: none !important; }` so we also need the `!important` here to be able to override the default hidden behavior on the sphinx rendered scikit-learn.org. See: https://github.com/scikit-learn/scikit-learn/issues/21755 */display: inline-block !important;position: relative;}#sk-container-id-2 div.sk-text-repr-fallback {display: none;}</style><div id=\"sk-container-id-2\" class=\"sk-top-container\"><div class=\"sk-text-repr-fallback\"><pre>LatentDirichletAllocation(n_components=7)</pre><b>In a Jupyter environment, please rerun this cell to show the HTML representation or trust the notebook. <br />On GitHub, the HTML representation is unable to render, please try loading this page with nbviewer.org.</b></div><div class=\"sk-container\" hidden><div class=\"sk-item\"><div class=\"sk-estimator sk-toggleable\"><input class=\"sk-toggleable__control sk-hidden--visually\" id=\"sk-estimator-id-2\" type=\"checkbox\" checked><label for=\"sk-estimator-id-2\" class=\"sk-toggleable__label sk-toggleable__label-arrow\">LatentDirichletAllocation</label><div class=\"sk-toggleable__content\"><pre>LatentDirichletAllocation(n_components=7)</pre></div></div></div></div></div>"
            ]
          },
          "metadata": {},
          "execution_count": 46
        }
      ]
    },
    {
      "cell_type": "code",
      "source": [
        "# Obtenemos los temas y las palabras más probables de cada tema\n",
        "topics = lda.components_\n",
        "feature_names = cv.get_feature_names_out()\n",
        "for topic_idx, topic in enumerate(topics):\n",
        "    print(\"Topic {}:\".format(topic_idx + 1))\n",
        "    terms = [feature_names[i] for i in topic.argsort()[:-10 - 1:-1]]\n",
        "    for i, term in enumerate(terms):\n",
        "        print(term, topic[i]) #Obviamente que hay ciertos temas que me esperaba como 'narnia' o 'fantasy',\n",
        "        #pero he de decir que 'manipulate' me ha llamado la atención (imagino que habla de 1984 por el tema político) y he descubierto que 'pauline' hace referencia a la ilustradora de Narnia."
      ],
      "metadata": {
        "id": "PEakl97VSMpM",
        "outputId": "faf0523e-3bdc-447b-83b5-c7d57791b04a",
        "colab": {
          "base_uri": "https://localhost:8080/"
        }
      },
      "execution_count": null,
      "outputs": [
        {
          "output_type": "stream",
          "name": "stdout",
          "text": [
            "Topic 1:\n",
            "publish 0.1428571903718428\n",
            "book 0.1428571903718428\n",
            "novel 0.14285718443492418\n",
            "english 0.14285718184879076\n",
            "author 0.14285718184879076\n",
            "role 0.14285718443492418\n",
            "fantasy 0.1428571903718428\n",
            "child 0.14285718184879076\n",
            "medal 0.14285718184879076\n",
            "literature 0.14285718184879076\n",
            "Topic 2:\n",
            "book 1.1428569312630463\n",
            "child 1.1428569312630463\n",
            "sell 0.14285715709920585\n",
            "author 0.14285715624717446\n",
            "english 0.14285715624717446\n",
            "herald 0.14285715709920585\n",
            "prize 1.1428569312630463\n",
            "nominate 0.14285715624717446\n",
            "new 0.14285715624717446\n",
            "million 0.14285715624717446\n",
            "Topic 3:\n",
            "publish 0.1428571903718428\n",
            "book 0.1428571903718428\n",
            "novel 0.14285718443492418\n",
            "english 0.14285718184879076\n",
            "author 0.14285718184879076\n",
            "role 0.14285718443492418\n",
            "fantasy 0.1428571903718428\n",
            "child 0.14285718184879076\n",
            "medal 0.14285718184879076\n",
            "literature 0.14285718184879076\n",
            "Topic 4:\n",
            "novel 0.14285715478841135\n",
            "orwell 0.14285715478841135\n",
            "publish 1.1428569539228057\n",
            "society 0.1428571526393329\n",
            "role 0.1428571526393329\n",
            "dystopian 1.1428569539228057\n",
            "model 0.14285715478841135\n",
            "complete 0.1428571526393329\n",
            "consequence 0.1428571526393329\n",
            "secker 0.1428571526393329\n",
            "Topic 5:\n",
            "publish 0.1428571903718428\n",
            "book 0.1428571903718428\n",
            "novel 0.14285718443492418\n",
            "english 0.14285718184879076\n",
            "author 0.14285718184879076\n",
            "role 0.14285718443492418\n",
            "fantasy 0.1428571903718428\n",
            "child 0.14285718184879076\n",
            "medal 0.14285718184879076\n",
            "literature 0.14285718184879076\n",
            "Topic 6:\n",
            "narnia 0.1428571524611534\n",
            "world 0.1428571524611534\n",
            "fantasy 0.14285715123826737\n",
            "series 1.1428569637182997\n",
            "history 1.1428569637182997\n",
            "chronicles 0.14285715123826737\n",
            "child 0.1428571524611534\n",
            "portal 1.1428569637182997\n",
            "destruction 1.1428569637182997\n",
            "pauline 1.1428569637182997\n",
            "Topic 7:\n",
            "publish 0.1428571903718428\n",
            "book 0.1428571903718428\n",
            "novel 0.14285718443492418\n",
            "english 0.14285718184879076\n",
            "author 0.14285718184879076\n",
            "role 0.14285718443492418\n",
            "fantasy 0.1428571903718428\n",
            "child 0.14285718184879076\n",
            "medal 0.14285718184879076\n",
            "literature 0.14285718184879076\n"
          ]
        }
      ]
    },
    {
      "cell_type": "markdown",
      "source": [],
      "metadata": {
        "id": "f94PTGoEzw8R"
      }
    },
    {
      "cell_type": "markdown",
      "source": [
        "##Conclusiones\n",
        "- Gracias a la extracción de términos y modelado de temas he conseguido mi propósito de identificar las palabras más representativas de los textos, siendo a veces las menos frecuentes en la mayoría de los textos, pero las más importantes (algo realmente útil). Para ello, he utilizado bibliotecas como sklearn, spacy, nltk. He tokenizado, clasificado en categorías gramaticales y aplicado patrones morfosintácticos y listas de exclusión (stopwords) y procesado el texto, además de crear lista de palabras lematizadas.\n",
        "- He medido la relación estadística entre términos y calculado y analizado la importancia de estos en el conjunto de documentos (qué n-gramas estaban más relacionados con el tema que otros n-gramas).\n",
        "- He utilizado diversas clases importadas de las librerías mencionadas con las que poder llevar a cabo la vectorización, crear matrices de documentos y representar los términos con mayor peso.\n",
        "- He aprendido a determinar el número apropiado de temas mediante el Método del Codo y las desviaciones cuadráticas.\n",
        "- He de decir que, me ha sorprendido las aplicaciones y posibilidades de la extracción de información y clasificación de textos y lo utilizaré en mi TFM donde podré poner en práctica mucho más que las palabras más representativas o su relación procedentes de tres textos de Wikipedia. Topics ocultos, información no encontrada o investigada todavía a la que se puede llegar con porcentajes y cálculo de relación de palabras, al fin y al cabo, recuperación de información con posibles proyectos de gran alcance.\n",
        "\n",
        "\n"
      ],
      "metadata": {
        "id": "GwWG9_13sOKg"
      }
    },
    {
      "cell_type": "markdown",
      "source": [
        "<div>\n",
        "<img src=\"https://prodimage.images-bn.com/pimages/9780345445605_p0_v1_s1200x630.jpg\" style=\"width: 30%; display: inline-block;\" alt=\"My treasure\">\n",
        "<img src=\"https://pictures.abebooks.com/isbn/9780064433990-es.jpg\" style=\"width: 30%; display: inline-block;\" alt=\"Narnia\">\n",
        "<img src=\"https://m.media-amazon.com/images/I/71sOSrd+JxL._AC_UF1000,1000_QL80_.jpg\" style=\"width: 30%; display: inline-block;\" alt=\"1984\">\n",
        "</div>"
      ],
      "metadata": {
        "id": "48G1vwjuzz9E"
      }
    }
  ]
}